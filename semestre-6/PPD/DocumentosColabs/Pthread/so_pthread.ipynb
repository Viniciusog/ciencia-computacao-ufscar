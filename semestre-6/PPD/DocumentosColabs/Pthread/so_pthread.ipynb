{
  "nbformat": 4,
  "nbformat_minor": 0,
  "metadata": {
    "colab": {
      "provenance": []
    },
    "kernelspec": {
      "name": "python3",
      "display_name": "Python 3"
    }
  },
  "cells": [
    {
      "cell_type": "markdown",
      "metadata": {
        "id": "cX0lNbzmAL9Z"
      },
      "source": [
        "# SO, SO2, PPD: gerenciamento de *threads* com *pthreads*\n",
        "\n",
        "Hélio - DC/UFSCar - 2023\n",
        "\n"
      ]
    },
    {
      "cell_type": "markdown",
      "metadata": {
        "id": "n8EAJxFpnlP7"
      },
      "source": [
        "# pthreads\n",
        "\n",
        "A biblioteca padrão para o gerenciamento de *threads* em sistemas compatíveis com POSIX, como Linux e BSDs, por exemplo, é [pthreads](https://pubs.opengroup.org/onlinepubs/007908775/xsh/pthread.h.html).\n",
        "\n",
        "\n",
        "## Criação de novas threads\n",
        "\n",
        "A criação de *threads* é feita com a chamada [pthread_create](https://man7.org/linux/man-pages/man3/pthread_create.3.html)():\n",
        "```\n",
        "pthread_create(pthread_t *restrict thread, const pthread_attr_t *restrict attr,\n",
        "               void *(*start_routine)(void *), void *restrict arg);\n",
        "```\n",
        "\n",
        "Alguns aspectos a observar nesta chamada:\n",
        "\n",
        "* o código de uma *thread* é definido por uma **função** dentro do código do processo.\n",
        "* A função da *thread* tem um único parâmetro, que é um ponteiro para *void*\n",
        "* O valor de retorno da *thread* é também um ponteiro para *void*\n",
        "* ao concluir a execução do código da função especificada, a tarefa criada (thread) termina, sem retornar ao ponto do código que chamou pthread_create()\n",
        "\n",
        "Embora ter os parâmetros e o valor de retorno definidos desta forma possa parecer algo restritivo, esse modelo oferece grande flexibilidade, já que, em C, pode-se converter esses parâmetros para ponteiros para qualquer tipo de variável, inclusive para estruturas.\n",
        "\n",
        "O **identificador da nova *thread*** criada é salvo no endereço de memória passado no primeiro parâmetro da chamada.\n",
        "\n",
        "A criação de *threads* pode ocorrer em qualquer ponto em um programa. Nos casos mais simples, um programa que manipula *threads* vai fazer chamadas à função *pthread_create* para criá-las, a partir da função *main*.\n",
        "\n",
        "Ah, vale observar o valor de retorno da chamada de criação: **0 = sucesso**, outro valor = código do erro ocorrido.\n",
        "\n",
        "\n",
        "## Identificador de uma *thread*\n",
        "\n",
        "Assim como o valor **pid** identifica unicamente um processo para o SO, cada *thread* tem também um identificador único, chamado ***thread ID***. Como mencionado, esse valor é retornado como um dos parâmetros da chamada *pthread_create*. Além disso, uma *thread* pode obter o seu idenficador usando a chamada ***pthread_self***(), que é equivalente à chamada ***getpid***() para processos.\n",
        "\n",
        "Observe que todas as *threads* de um processo compartilham o mesmo identificador de processo. Assim, a execução da chamada *getpid*() por qualquer *thread* de um processo deve retornar o mesmo valor.\n",
        "\n",
        "## Encerramento da execução de *threads*\n",
        "\n",
        "Depois de criar novas *threads* no programa, a função *main* não pode simplesmente terminar, com *return* ou *exit*(), pois isso faria com que o processo todo, com todas as suas *threads*, fosse **terminado**.\n",
        "\n",
        "Assim, é possível que a função *main*, que é a *thread* original associada a este processo, passe à execução de algum códido com duração equivalente à das demais *threads*. Também é comum que a função *main* seja usada apenas como uma coordenadora das atividades do programa. Neste caso, ela pode simplesmente esperar pela conclusão das demais *threads*.\n",
        "\n",
        "Ao concluir suas atividades, uma função que corresponde ao código de uma *thread* pode realizar o **retorno de algum valor**, ou pode usar uma chamada explícita à função ***pthread_exit***(). Em ambos os casos, é possível retornar um ponteiro para alguma posição de memória.\n",
        "\n",
        "Para efeitos de sincronização e/ou para saber o resultado da execução de uma outra *thread* do mesmo processo, é possível usar a chamada [***pthread_join***](https://man7.org/linux/man-pages/man3/pthread_join.3.html)(). De maneira parecida com a chamada *waitpid*(), *pthread_join* serve para esperar pelo retorno (conclusão) de uma *thread* específica.\n",
        "\n",
        "Qualquer *thread* de um processo pode usar *pthread_join* para esperar por qualquer outra *thread* deste processo; isso não precisa ser feito pela função *main* ou pela *thread* que criou a *thread* que se quer esperar. Na chamada, contudo, é preciso fornecer o identificador da *thread* esperada.\n",
        "\n",
        "\n",
        "\n",
        "O programa exemplo a seguir ilustra a criação de *threads* com *pthreads* (*POSIX threads*)."
      ]
    },
    {
      "cell_type": "markdown",
      "metadata": {
        "id": "R8womZ7qhVrT"
      },
      "source": [
        "Compilando programas com *pthreads* com **gcc**\n",
        "\n",
        "Só um comentário rápido aqui. Para compilar com **gcc** programas C que usem as funções da API ***pthreads***, é preciso incluir o parâmetro ***-pthread*** na linha de comando.\n",
        "\n",
        "Ex:\n",
        "```\n",
        "$ gcc prog.c -o prog -pthread\n",
        "```\n",
        "\n",
        "Para saber mais sobre isso, vejam o [manual](https://man7.org/linux/man-pages/man1/gcc.1.html):\n",
        "\n",
        "       -pthread\n",
        "           Define additional macros required for using the POSIX threads\n",
        "           library.  You should use this option consistently for both\n",
        "           compilation and linking."
      ]
    },
    {
      "cell_type": "code",
      "metadata": {
        "colab": {
          "base_uri": "https://localhost:8080/"
        },
        "id": "4rwTvOtemXyg",
        "outputId": "f3d37746-6d20-4b1c-a341-f38ff96521b2"
      },
      "source": [
        "%%writefile t1.c\n",
        "\n",
        "/*\n",
        " * Objetivo:\n",
        "   Observar a criação de threads e o término de suas execuções.\n",
        "   pthread_exit() ou return indicam fim de thread.\n",
        "   Main thread deve esperar threads terminarem, ou sair com pthread_exit().\n",
        "   Se função main terminar (return, exit ou _exit), processo todo (todas as suas\n",
        "   threads) termina.\n",
        " */\n",
        "\n",
        "#include <pthread.h>\n",
        "#include <stdio.h>\n",
        "#include <string.h>\n",
        "#include <unistd.h>\n",
        "\n",
        "#define NUM_THREADS\t4\n",
        "\n",
        "void *\n",
        "hello_w(void *arg)\n",
        "{\n",
        "  pthread_t tid = pthread_self();\n",
        "\n",
        "  sleep(5);\n",
        "\n",
        "\tprintf(\"Um alo^ da thread %lu, parte do processo %d\\n\",\n",
        "        (long unsigned)tid, (int)getpid() );\n",
        "\n",
        "\tpthread_exit(NULL);\n",
        "}\n",
        "\n",
        "int main (int argc, char *argv[])\n",
        "{\n",
        "\tint t, status;\n",
        "\n",
        "  // vetor de pthread_t para salvamento dos identificadores das threads\n",
        "\tpthread_t threads[NUM_THREADS];\n",
        "\n",
        "  printf(\"Processo %d vai criar threads...\\n\\n\", getpid() );\n",
        "\n",
        "\tfor (t=0; t < NUM_THREADS; t++) {\n",
        "\n",
        "\t\tstatus = pthread_create(&threads[t], NULL, hello_w, NULL);\n",
        "\n",
        "\t\tif (!status) {\n",
        "      printf(\"main criou thread %d (%lu)\\n\",t,(long unsigned)threads[t]);\n",
        "    } else {\n",
        "\t\t\tprintf(\"Falha da criacao da thread %d (%d)\\n\",t,status);\n",
        "\t\t\treturn (1);\n",
        "\t\t}\n",
        "\t}\n",
        "\n",
        "// pthread_exit(NULL);\n",
        "// return 0;\n",
        "// sleep(30);\n",
        "\n",
        "  // Se função main, ou qualquer thread, terminar com exit, processo todo termina\n",
        "  // Em geral, main executa algo e, ao final, espera demais threads acabarem antes\n",
        "  // de terminar o programa. Espera pela conclusão é feita com pthread_join()\n",
        "\n",
        "  // loop de espera pelo término da execução das threads\n",
        "  for (t=0; t < NUM_THREADS; t++) {\n",
        "\n",
        "    // join ignorando o valor de retorno\n",
        "    status = pthread_join(threads[t], NULL);\n",
        "\n",
        "    if (! status) {\n",
        "      printf(\"Thread %d (%lu) retornou\\n\",t,(long unsigned)threads[t]);\n",
        "    } else{\n",
        "      fprintf(stderr,\"Erro em pthread_join (%d)\\n\",status);\n",
        "      return (2);\n",
        "    }\n",
        "  }\n",
        "\n",
        "  return 0;\n",
        "}"
      ],
      "execution_count": null,
      "outputs": [
        {
          "output_type": "stream",
          "name": "stdout",
          "text": [
            "Writing t1.c\n"
          ]
        }
      ]
    },
    {
      "cell_type": "code",
      "metadata": {
        "id": "S8UZD3tbmfQ8",
        "colab": {
          "base_uri": "https://localhost:8080/"
        },
        "outputId": "4a5ec1ad-e652-43c6-cb17-81527ebe03f0"
      },
      "source": [
        "! if [ ! t1 -nt t1.c ]; then gcc t1.c -o t1 -pthread; fi\n",
        "! ./t1"
      ],
      "execution_count": null,
      "outputs": [
        {
          "output_type": "stream",
          "name": "stdout",
          "text": [
            "Processo 28683 vai criar threads...\n",
            "\n",
            "main criou thread 0 (140353395222272)\n",
            "main criou thread 1 (140353386829568)\n",
            "main criou thread 2 (140353378436864)\n",
            "main criou thread 3 (140353370044160)\n",
            "Um alo^ da thread 140353386829568, parte do processo 28683\n",
            "Um alo^ da thread 140353395222272, parte do processo 28683\n",
            "Um alo^ da thread 140353370044160, parte do processo 28683\n",
            "Um alo^ da thread 140353378436864, parte do processo 28683\n"
          ]
        }
      ]
    },
    {
      "cell_type": "markdown",
      "metadata": {
        "id": "5fkxWtKv09cQ"
      },
      "source": [
        "**Questões**:\n",
        "\n",
        "* Viram que todas as *threads* exibem o mesmo ***pid***?\n",
        "* Viram os valores dos ***thread_ids***?\n",
        "* Por que as impressões das mensagens das *threads* podem aparecer fora de ordem, em ordem diferente a cada execução?\n"
      ]
    },
    {
      "cell_type": "markdown",
      "metadata": {
        "id": "xvroSid9R2sZ"
      },
      "source": [
        "O programa a seguir tem sentido? Por quê?"
      ]
    },
    {
      "cell_type": "code",
      "metadata": {
        "colab": {
          "base_uri": "https://localhost:8080/"
        },
        "id": "HPjblarYR__9",
        "outputId": "90e7cc79-ee81-484f-aa6f-6c6d0a2e1ecb"
      },
      "source": [
        "%%writefile t2.c\n",
        "\n",
        "#include <pthread.h>\n",
        "#include <stdio.h>\n",
        "#include <unistd.h>\n",
        "\n",
        "#define NUM_THREADS\t4\n",
        "\n",
        "void *\n",
        "hello_w(void *arg)\n",
        "{\n",
        "  printf(\"Thread %ld trabalhando...\\n\", (long int)pthread_self() );\n",
        "  sleep(1);\n",
        "\tpthread_exit(NULL);\n",
        "}\n",
        "\n",
        "int main (int argc, char *argv[])\n",
        "{\n",
        "\tint t;\n",
        "\n",
        "  // vetor de pthread_t para salvamento dos identificadores das threads\n",
        "\tpthread_t threads[NUM_THREADS];\n",
        "\n",
        "\tfor (t=0; t < NUM_THREADS; t++) {\n",
        "\n",
        " \t\tif (pthread_create(&threads[t], NULL, hello_w, NULL)) {\n",
        "      printf(\"Falha da criacao da thread %d\\n\",t);\n",
        "\t\t\treturn(1);\n",
        "\t\t}\n",
        "\n",
        "    if (pthread_join(threads[t], NULL) ) {\n",
        "      printf(\"Erro em pthread_join, esperando pela thread %d\\n\",t);\n",
        "      return(2);\n",
        "    }\n",
        "  }\n",
        "\n",
        "  return 0;\n",
        "}"
      ],
      "execution_count": null,
      "outputs": [
        {
          "output_type": "stream",
          "name": "stdout",
          "text": [
            "Writing t2.c\n"
          ]
        }
      ]
    },
    {
      "cell_type": "code",
      "metadata": {
        "id": "8l1CkIG2TRxd",
        "outputId": "55e0e1f5-6709-4140-ffc0-135193c04817",
        "colab": {
          "base_uri": "https://localhost:8080/"
        }
      },
      "source": [
        "! if [ ! t2 -nt t2.c ]; then gcc -Wall t2.c -o t2 -pthread; fi\n",
        "! ./t2"
      ],
      "execution_count": null,
      "outputs": [
        {
          "output_type": "stream",
          "name": "stdout",
          "text": [
            "Thread 140661673895680 trabalhando...\n",
            "Thread 140661673895680 trabalhando...\n",
            "Thread 140661673895680 trabalhando...\n",
            "Thread 140661673895680 trabalhando...\n"
          ]
        }
      ]
    },
    {
      "cell_type": "markdown",
      "metadata": {
        "id": "x07rK_k1wHj_"
      },
      "source": [
        "# Passando parâmetros na ativação e no retorno das *threads*\n",
        "\n",
        "Vejamos como funciona a passagem de parâmetros para a função da *thread*, tanto em sua criação quanto no retorno da função associada.\n",
        "\n",
        "Como visto, a chamada *pthread_create* prevê apenas um parâmetro na função da *thread*. Sendo este um ponteiro sem tipo definido (***void ****), em C, isso pode ser usado para passar ponteiros para qualquer posição de memória, que contenha qualquer tipo de dado!\n",
        "\n",
        "Ah, considerando as arquiteturas 64 bits atuais, em que um endereço de memória tem 64 bits, também é possível passar como parâmetro para a função da *thread* qualquer valor que caiba em (<=) 8 bytes.\n",
        "\n",
        "<br>\n",
        "\n",
        "Uma estratégia para acomodar funções que precisam múltiplos parâmetros é definir um tipo de estrutura (***struct***) contendo esses parâmetros. Daí, para a chamada de criação da *thread*, preenche-se uma estrutura deste tipo com os parâmetros desejados e passa-se o endereço desta estrutura como parâmetro da chamada.\n",
        "\n",
        "Nos casos de uso de *threads* para programação paralela com decomposição de dados, uma estratégia comum é passar para a função da *thread* apenas um identificador lógico desta *thread*. Esse identificador pode então ser usado para que a própria *thread* determine qual parte dos dados irá manipular.\n",
        "\n",
        "<br>\n",
        "\n",
        "Quanto ao valor de retorno, as mesmas considerações são válidas sobre o uso de um ponteiro. No código de chamada da função *pthread_join*, é preciso estar atento que, originialmente, deverá ser fornecido um endereço de uma posição de memória **onde será salvo um endereço** (void **).\n",
        "\n",
        "Por fim, como a linguagem C é bastante flexível, basta que o programa passe parâmetros que são tratados de maneira apropriada nas funções que emitem e processam as chamadas."
      ]
    },
    {
      "cell_type": "code",
      "metadata": {
        "id": "m0iqQMUdWx6U",
        "colab": {
          "base_uri": "https://localhost:8080/"
        },
        "outputId": "01fcfc28-fe0a-4c0b-e55e-b750cc44cff7"
      },
      "source": [
        "%%writefile t3.c\n",
        "\n",
        "#include <pthread.h>\n",
        "#include <stdio.h>\n",
        "#include <string.h>\n",
        "#include <unistd.h>\n",
        "\n",
        "#define NUM_THREADS\t4\n",
        "\n",
        "// declare aqui, como variávies globais, as variáveis que serão\n",
        "// compartilhadas entre as threads deste processo\n",
        "\n",
        "void *\n",
        "hello_w(void *arg)\n",
        "{\n",
        "  int * num = (int *)arg;\n",
        "  int ind = *num;\n",
        "  // int val = *(int *)arg;\n",
        "\n",
        "\tprintf(\"Thread %d trabalhando...\\n\", ind);\n",
        "  sleep(1);\n",
        "\n",
        "\tpthread_exit(NULL);\n",
        "}\n",
        "\n",
        "int main (int argc, char *argv[])\n",
        "{\n",
        "\tint t, status;\n",
        "\n",
        "  // vetor de pthread_t para salvamento dos identificadores das threads\n",
        "\tpthread_t threads[NUM_THREADS];\n",
        "\n",
        "  // vetor de inteiros para uso como parâmetros para as threads\n",
        "  int args[NUM_THREADS];\n",
        "\n",
        "\tfor (t=0; t < NUM_THREADS; t++) {\n",
        "\n",
        "    args[t]=t;  // ajuste do parâmetro para a thread; neste caso, um índice lógico\n",
        "\n",
        "\t\tstatus = pthread_create(&threads[t], NULL, hello_w, (void *)&args[t]);\n",
        "\n",
        "\t\tif (!status) {\n",
        "      printf(\"main criou thread %d\\n\",t);\n",
        "    } else {\n",
        "\t\t\tprintf(\"Falha da criacao da thread %d (%d)\\n\",t,status);\n",
        "\t\t\treturn (1);\n",
        "\t\t}\n",
        "\t}\n",
        "\n",
        "  // loop de espera pelo término da execução das threads\n",
        "  for (t=0; t < NUM_THREADS; t++) {\n",
        "\n",
        "    // join ignorando o valor de retorno\n",
        "    status = pthread_join(threads[t], NULL);\n",
        "\n",
        "    if (! status) {\n",
        "      printf(\"Thread %d (%lu) retornou\\n\",t,(long unsigned)threads[t]);\n",
        "    } else{\n",
        "      printf(\"Erro em pthread_join da thread %d (%d)\\n\",t,status);\n",
        "      return (2);\n",
        "    }\n",
        "  }\n",
        "\n",
        "  return 0;\n",
        "}"
      ],
      "execution_count": null,
      "outputs": [
        {
          "output_type": "stream",
          "name": "stdout",
          "text": [
            "Writing t3.c\n"
          ]
        }
      ]
    },
    {
      "cell_type": "code",
      "metadata": {
        "id": "KSXbNcfuhK4d",
        "colab": {
          "base_uri": "https://localhost:8080/"
        },
        "outputId": "4def9188-2352-43f2-b23e-5b51e5df80bd"
      },
      "source": [
        "! if [ ! t3 -nt t3.c ]; then gcc -Wall t3.c -o t3 -pthread; fi\n",
        "! ./t3"
      ],
      "execution_count": null,
      "outputs": [
        {
          "output_type": "stream",
          "name": "stdout",
          "text": [
            "main criou thread 0\n",
            "main criou thread 1\n",
            "main criou thread 2\n",
            "Thread 2 trabalhando...\n",
            "main criou thread 3\n",
            "Thread 0 trabalhando...\n",
            "Thread 1 trabalhando...\n",
            "Thread 3 trabalhando...\n",
            "Thread 0 (140596413261568) retornou\n",
            "Thread 1 (140596404868864) retornou\n",
            "Thread 2 (140596396476160) retornou\n",
            "Thread 3 (140596388083456) retornou\n"
          ]
        }
      ]
    },
    {
      "cell_type": "markdown",
      "metadata": {
        "id": "5gEv1HFVkxXT"
      },
      "source": [
        "Criando diferentes tipos de *trheads*, com diferentes parâmetros..."
      ]
    },
    {
      "cell_type": "code",
      "metadata": {
        "colab": {
          "base_uri": "https://localhost:8080/"
        },
        "id": "pblGH8KCwO5r",
        "outputId": "18d789db-1947-4790-d287-edada1157d32"
      },
      "source": [
        "%%writefile t4.c\n",
        "/*\n",
        "** Objetivo:\n",
        "    observar que o tipo *void usado no argumento da função da thread pode\n",
        "    ser qualquer coisa. É preciso apenas que o argumento seja usado considerando\n",
        "    o tipo que foi passado.\n",
        "    Não é qualquer tipo de parâmetro que pode ser tratado como um ponteiro, contudo.\n",
        "    No caso da estrutura, é preciso passar o seu endereço.\n",
        "*/\n",
        "\n",
        "#include <pthread.h>\n",
        "#include <stdio.h>\n",
        "#include <stdlib.h>\n",
        "#include <string.h>\n",
        "#include <unistd.h>\n",
        "\n",
        "#define LEN 64\n",
        "\n",
        "// exemplo de estrutura de dados para usar como parâmetos na criação\n",
        "// de thread usando função que precisa de vários parâmetros\n",
        "typedef struct par {\n",
        "\tint num_int;\n",
        "\tchar num_char[LEN];\n",
        "} st_par;\n",
        "\n",
        "\n",
        "// exemplo de função que espera um valor inteiro (long int) como parâmetro\n",
        "void *\n",
        "f_int(void *num_int)\n",
        "{\n",
        "\tprintf(\"Aloˆ, aqui é %ld\\n\",(long int)num_int);\n",
        "\n",
        "\t// pthread_exit(NULL);\n",
        "\tpthread_exit((long int *)1);\n",
        "}\n",
        "\n",
        "// exemplo de função que espera uma string (vetor de char) como parâmetro\n",
        "void *\n",
        "f_char(void *num_char)\n",
        "{\n",
        "\tprintf(\"Aqui é thread %s\\n\",(char *)num_char);\n",
        "\n",
        "\t// pthread_exit(NULL);\n",
        "\tpthread_exit((long int *)2);\n",
        "}\n",
        "\n",
        "// exemplo de função que precisa de vários parâmetros\n",
        "void *\n",
        "f_struct(void *num_struct)\n",
        "{\n",
        "\tst_par *param;\n",
        "\tparam=(st_par*)num_struct;\n",
        "\t// int *intp;\n",
        "\t// char *charp;\n",
        "\n",
        "\t// intp = &(param->num_int);\n",
        "\t// charp = &(param->num_char);\n",
        "\n",
        "\tprintf(\"Ola' da thread %d %s\\n\",param->num_int,param->num_char);\n",
        "\n",
        "\t// pthread_exit(NULL);\n",
        "\tpthread_exit((long int *)34);\n",
        "}\n",
        "\n",
        "int\n",
        "main (int argc, char *argv[])\n",
        "{\n",
        "\tpthread_t th_int, th_char, th_struct;\n",
        "\tint status, *retval;\n",
        "\tlong int num_int=1;\n",
        "\tchar *num_char=\"dois\";\n",
        "\tst_par num_struct;\n",
        "\tchar err_msg[LEN];\n",
        "\n",
        "\tnum_struct.num_int=3;\n",
        "\tstrcpy(num_struct.num_char,\"quatro\");\n",
        "\n",
        "\tif((status=pthread_create(&th_int, NULL, f_int, (void *)num_int))) {\n",
        "\t\tstrerror_r(status,err_msg,LEN);\n",
        "\t\tprintf(\"Erro criando th_int: %s\\n\",err_msg);\n",
        "\t\texit(EXIT_FAILURE);\n",
        "\t}\n",
        "\tif((status=pthread_create(&th_char, NULL, f_char, (void *)num_char))) {\n",
        "\t\tstrerror_r(status,err_msg,LEN);\n",
        "\t\tprintf(\"Erro criando th_char: %s\\n\",err_msg);\n",
        "\t\texit(EXIT_FAILURE);\n",
        "\t}\n",
        "\tif((status=pthread_create(&th_struct, NULL, f_struct, (void *)&num_struct))) {\n",
        "\t\tstrerror_r(status,err_msg,LEN);\n",
        "\t\tprintf(\"Erro criando th_struct: %s\\n\",err_msg);\n",
        "\t\texit(EXIT_FAILURE);\n",
        "\t}\n",
        "\n",
        "\tif((status = pthread_join(th_int, (void **)&retval))) {\n",
        "\t\tstrerror_r(status,err_msg,LEN);\n",
        "\t\tprintf(\"Erro em pthread_join th_int: %s\\n\",err_msg);\n",
        "\t}else\n",
        "\t\tprintf(\"th_int joined: %ld\\n\",(long int)retval);\n",
        "\n",
        "\tif((status = pthread_join(th_char, (void **)&retval))) {\n",
        "\t\tstrerror_r(status,err_msg,LEN);\n",
        "\t\tprintf(\"Erro em pthread_join th_char: %s\\n\",err_msg);\n",
        "\t} else\n",
        "\t\tprintf(\"th_char joined: %ld\\n\",(long int)retval);\n",
        "\n",
        "\tif((status = pthread_join(th_struct, (void **)&retval))) {\n",
        "\t\tstrerror_r(status,err_msg,LEN);\n",
        "\t\tprintf(\"Erro em pthread_join th_struct: %s\\n\",err_msg);\n",
        "\t} else\n",
        "\t\tprintf(\"th_struct joined: %ld\\n\",(long int)retval);\n",
        "\n",
        "\tpthread_exit(NULL);\n",
        "}"
      ],
      "execution_count": null,
      "outputs": [
        {
          "output_type": "stream",
          "name": "stdout",
          "text": [
            "Writing t4.c\n"
          ]
        }
      ]
    },
    {
      "cell_type": "code",
      "metadata": {
        "id": "RUeGDvkgwPfJ",
        "colab": {
          "base_uri": "https://localhost:8080/"
        },
        "outputId": "1ba754c2-2c6b-4f05-a111-01cb2ede7603"
      },
      "source": [
        "! if [ ! t4 -nt t4.c ]; then gcc -Wall t4.c -o t4 -pthread; fi\n",
        "! ./t4"
      ],
      "execution_count": null,
      "outputs": [
        {
          "output_type": "stream",
          "text": [
            "Aloˆ, aqui é 1\n",
            "Ola' da thread 3 quatro\n",
            "th_int joined: 1\n",
            "Aqui é thread dois\n",
            "th_char joined: 2\n",
            "th_struct joined: 34\n"
          ],
          "name": "stdout"
        }
      ]
    },
    {
      "cell_type": "markdown",
      "metadata": {
        "id": "er4L6tbUDYYz"
      },
      "source": [
        "# Compartilhando dados entre as *threads*\n",
        "\n",
        "Um dos aspectos para o uso de *threads*, ao invés de processos, na criação de aplicações que querem explorar o uso de múltiplos processadores, é o compartilhamento de memória entre as *threads* de um processo.\n",
        "\n",
        "De maneira simplificada, todas as **variáveis** que forem definidas como **globais**, ou seja, que forem **declaradas fora do escopo de qualquer função** no código, serão compartilhadas por todas as *threads* deste processo.\n",
        "\n",
        "É claro, contudo, que se houver acessos simultâneos das *threads* sobre as mesmas posições de memória, pode ser preciso sincronizar esses acessos, evitando **condições de corrida** e erros. A garantida de acesso exclusivo, com exclusão mútua, por exemplo, não é provida automaticamente pelo SO. A aplicação deverá usar os mecanismos disponíveis para isso, se for o caso.\n"
      ]
    },
    {
      "cell_type": "markdown",
      "metadata": {
        "id": "UiOqmdhEx0U_"
      },
      "source": [
        "## Usando múltiplas *threads*\n",
        "\n",
        "O programa a seguir ilustra o uso de *threads* para fazer a soma das linhas de 2 matrizes de forma paralela.\n",
        "\n",
        "Para que sejam acessíveis por todas as *threads*, as matrizes foram declaradas globalmente.\n",
        "\n",
        "Cabe uma discussão aqui, já que as matrizes serão alocadas dinamicamente.\n",
        "\n",
        "Na verdade, as posições de memória contendo os endereços das matrizes, ou seja, os ponteiros, é que são globais. Neste exemplo, os espaços para as matrizes serão alocados dinamicamente. Vale saber, então, que as áreas de memória dinâmica (*heap*) também são acessíveis por todas as *threads* de um processo.\n",
        "\n",
        "Neste exemplo específico, vale observar um aspecto relevante, que não é tratado no código, que é o cuidado com a divisão das linhas entre as *threads*. Para que o código seja flexível, com suporte a matrizes de tamanhos variados, ainda seria preciso tratar linhas restantes nos cálculos das divisões, para que não haja linhas sem manipulação!"
      ]
    },
    {
      "cell_type": "code",
      "metadata": {
        "colab": {
          "base_uri": "https://localhost:8080/"
        },
        "id": "GUusevxYxfEj",
        "outputId": "ed6053bf-b861-4b2f-e4e1-772c382db794"
      },
      "source": [
        "%%writefile t5.c\n",
        "/*\n",
        " ** Programa :\n",
        " **   Uso de threads para soma das linhas de 2 matrizes\n",
        " */\n",
        "\n",
        "#include <pthread.h>\n",
        "#include <stdio.h>\n",
        "#include <stdlib.h>\n",
        "#include <string.h>\n",
        "#include <unistd.h>\n",
        "#include <sys/time.h>\n",
        "#include <sys/resource.h>MAP_SHARED            Modifications are shared.\n",
        "\n",
        "#define LEN 128\n",
        "\n",
        "#define NLIN 1000\n",
        "#define NCOL 1000\n",
        "#define NTHR 8\n",
        "\n",
        "int *_A;\n",
        "int *_B;\n",
        "int *_C;\n",
        "\n",
        "int _nlin = 0;\n",
        "int _ncol = 0;\n",
        "int _nthr = 0;\n",
        "\n",
        "int _verbose = 0;\n",
        "\n",
        "void *\n",
        "soma(void *arg)\n",
        "{\n",
        "  // determina o número lógico desta thread\n",
        "\tlong int ind = (long int)arg;\n",
        "\tint i,j;\n",
        "\tint nl, li, lf;\n",
        "\n",
        "\t// Falta tratar divisão não inteira...\n",
        "\tnl = _nlin/_nthr;\n",
        "\tli = ind*nl;\n",
        "\tlf = li+nl;\n",
        "\n",
        "  if (_verbose)\n",
        "\t  printf(\"Thread %ld manipula linhas %d a %d\\n\",ind,li,lf-1);\n",
        "\n",
        "\tfor(i=li; i < lf; i++)\n",
        "\n",
        "\t\tfor(j=0;j<_ncol;j++)\n",
        "\n",
        "\t\t\t_C[i*_ncol+j] = _A[i*_ncol+j] + _B[i*_ncol+j];\n",
        "\n",
        "\tpthread_exit(NULL);\n",
        "}\n",
        "\n",
        "int\n",
        "main (int argc, char *argv[])\n",
        "{\n",
        "\tpthread_t threads[NLIN];\n",
        "\tlong int t;\n",
        "  int status;\n",
        "\tchar err_msg[LEN];\n",
        "\tint i,j,ind;\n",
        "\n",
        "\tind=1;\n",
        "\twhile (ind < argc) {\n",
        "\t\tif( !strcmp(argv[ind],\"-h\") || !strcmp(argv[ind],\"/?\")) {\n",
        "\t\t\tprintf(\"Uso: %s [-nc num_col] [-nl num_lin] [-nt num_thr] \",argv[0]);\n",
        "\t\t\texit(0);\n",
        "\t\t}\n",
        "    if(!strcmp(argv[ind],\"-v\"))\n",
        "\t\t  _verbose=1;\n",
        "\n",
        "\t\tif(!strcmp(argv[ind],\"-nc\")) {\n",
        "\t\t\tif(argc>ind)\n",
        "\t\t\t\t_ncol=atoi(argv[++ind]);\n",
        "\t\t\telse {\n",
        "\t\t\t\tprintf(\"Erro nos parâmetros...\\n\");\n",
        "\t\t\t\texit(0);\n",
        "\t\t\t}\n",
        "\t\t}\n",
        "\t\tif(!strcmp(argv[ind],\"-nl\")) {\n",
        "\t\t\tif(argc>ind)\n",
        "\t\t\t\t_nlin=atoi(argv[++ind]);\n",
        "\t\t\telse {\n",
        "\t\t\t\tprintf(\"Erro nos parâmetros...\\n\");\n",
        "\t\t\t\texit(0);\n",
        "\t\t\t}\n",
        "\t\t}\n",
        "\t\tif(!strcmp(argv[ind],\"-nt\")) {\n",
        "\t\t\tif(argc>ind)\n",
        "\t\t\t\t_nthr=atoi(argv[++ind]);\n",
        "\t\t\telse {\n",
        "\t\t\t\tprintf(\"Erro nos parâmetros...\\n\");\n",
        "\t\t\t\texit(0);\n",
        "\t\t\t}\n",
        "\t\t}\n",
        "\n",
        "\t\tind++;\n",
        "\t}MAP_SHARED            Modifications are shared.\n",
        "\n",
        "\tif(_nlin==0) _nlin = NLIN;\n",
        "\tif(_ncol==0) _ncol = NCOL;\n",
        "\tif(_nthr==0) _nthr = NTHR;\n",
        "\n",
        "\t// alocar as matrizes\n",
        "\t_A=(int *)malloc(_nlin * _ncol * sizeof(int));\n",
        "\t_B=(int *)malloc(_nlin * _ncol * sizeof(int));\n",
        "\t_C=(int *)malloc(_nlin * _ncol * sizeof(int));\n",
        "\n",
        "  srand(getpid());\n",
        "\n",
        "  // geração das matrizes com valores inteiros aleatórios (0 a 9). Senão, 0!\n",
        "\tfor(i=0;i<_nlin;i++) {\n",
        "\t\tfor(j=0;j<_ncol;j++) {\n",
        "\t\t\t_A[i*_ncol+j]=rand()%10;\n",
        "\t\t\t_B[i*_ncol+j]=rand()%10;\n",
        "\t\t}\n",
        "\t}\n",
        "\n",
        "\tif(_verbose) {\n",
        "\t\tprintf(\"\\n\");\n",
        "\t\tfor(i=0;i<_nlin;i++) {\n",
        "\t\t\tprintf(\"%d: \",i);\n",
        "\t\t\tfor(j=0;j<_ncol;j++)\n",
        "\t\t\t\tprintf(\"%d \",_A[i*_ncol+j]);\n",
        "\t\t\tprintf(\"   \");\n",
        "\t\t\tfor(j=0;j<_ncol;j++)\n",
        "\t\t\t\tprintf(\"%d \",_B[i*_ncol+j]);\n",
        "\t\t\tprintf(\"\\n\");\n",
        "\t\t}\n",
        "    printf(\"\\n\");\n",
        "\t}\n",
        "\n",
        "  // cria threads, passando o índice lógico como parâmetro para cada uma delas\n",
        "\tfor (t=0; t<_nthr; t++) {\n",
        "\t\tstatus = pthread_create(&threads[t], NULL, soma, (void *)t);\n",
        "\t\tif (status) {\n",
        "\t\t\tstrerror_r(status,err_msg,LEN);\n",
        "\t\t\tprintf(\"Falha da criacao da thread %ld (%d): %s\\n\",t,status,err_msg);\n",
        "\t\t\texit(EXIT_FAILURE);\n",
        "\t\t}\n",
        "\t}\n",
        "\n",
        "\t// espera threads retornarem\n",
        "\tfor (t=0; t<_nthr; t++) {\n",
        "\n",
        "\t\tstatus = pthread_join(threads[t], NULL);\n",
        "\t\tif (status) {\n",
        "\t\t\tstrerror_r(status,err_msg,LEN);\n",
        "\t\t\tprintf(\"Erro em pthread_join: %s\\n\",err_msg);\n",
        "\t\t\texit(EXIT_FAILURE);\n",
        "\t\t}\n",
        "\t}\n",
        "\n",
        "\t// impressão da matriz resultante\n",
        "\tif(_verbose) {\n",
        "\t\tprintf(\"\\n\");\n",
        "\t\tfor(i=0;i<_nlin;i++) {\n",
        "\t\t\tprintf(\"%d: \",i);\n",
        "\t\t\tfor(j=0;j<_ncol;j++)\n",
        "\t\t\t\tprintf(\"%2d \",_C[i*_nlin+j]);\n",
        "\t\t\tprintf(\"\\n\");\n",
        "\t\t}\n",
        "\t\tprintf(\"\\n\");\n",
        "\t}\n",
        "\n",
        "\t// desalocar as matrizes\n",
        "\tfree(_A);\n",
        "\tfree(_B);\n",
        "\tfree(_C);\n",
        "\n",
        "\treturn(0);\n",
        "}"
      ],
      "execution_count": null,
      "outputs": [
        {
          "output_type": "stream",
          "name": "stdout",
          "text": [
            "Writing t5.c\n"
          ]
        }
      ]
    },
    {
      "cell_type": "code",
      "metadata": {
        "colab": {
          "base_uri": "https://localhost:8080/"
        },
        "id": "ZS1WxwnvxhB9",
        "outputId": "466ba4d4-358b-441d-e448-f3ade3d67f42"
      },
      "source": [
        "! if [ ! t5 -nt t5.c ]; then gcc -Wall t5.c -o t5 -pthread ; fi\n",
        "# ! time ./t5 -nl 10 -nc 10 -nt 5 -v\n",
        "! lscpu | grep \"CPU(s):\"\n",
        "! time ./t5 -nl 10240 -nc 10240 -nt 1\n",
        "! time ./t5 -nl 10240 -nc 10240 -nt 2\n",
        "! time ./t5 -nl 10240 -nc 10240 -nt 4\n",
        "! time ./t5 -nl 10240 -nc 10240 -nt 8\n",
        "! time ./t5 -nl 10240 -nc 10240 -nt 16\n",
        "! time ./t5 -nl 10240 -nc 10240 -nt 32"
      ],
      "execution_count": null,
      "outputs": [
        {
          "output_type": "stream",
          "name": "stdout",
          "text": [
            "CPU(s):                          2\n",
            "NUMA node0 CPU(s):               0,1\n",
            "\n",
            "real\t0m3.088s\n",
            "user\t0m2.548s\n",
            "sys\t0m0.523s\n",
            "\n",
            "real\t0m3.006s\n",
            "user\t0m2.861s\n",
            "sys\t0m0.568s\n",
            "\n",
            "real\t0m4.002s\n",
            "user\t0m3.491s\n",
            "sys\t0m0.615s\n",
            "\n",
            "real\t0m2.979s\n",
            "user\t0m2.864s\n",
            "sys\t0m0.546s\n",
            "\n",
            "real\t0m3.090s\n",
            "user\t0m2.942s\n",
            "sys\t0m0.568s\n",
            "\n",
            "real\t0m3.027s\n",
            "user\t0m2.870s\n",
            "sys\t0m0.574s\n"
          ]
        }
      ]
    }
  ]
}