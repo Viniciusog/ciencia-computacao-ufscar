{
  "nbformat": 4,
  "nbformat_minor": 0,
  "metadata": {
    "colab": {
      "provenance": []
    },
    "kernelspec": {
      "name": "python3",
      "display_name": "Python 3"
    }
  },
  "cells": [
    {
      "cell_type": "markdown",
      "metadata": {
        "id": "RGkYx0TTGQjZ"
      },
      "source": [
        "# SO, SO2, PPD: comunicação e sincronização de *threads*\n",
        "\n",
        "Hélio - DC/UFSCar - 2023"
      ]
    },
    {
      "cell_type": "markdown",
      "metadata": {
        "id": "JwVMPpPvEDYC"
      },
      "source": [
        "# Sincronização de *threads*\n",
        "\n",
        "*Threads* compartilham o espaço de endereçamento do processo ao qual estão associadas. Isso facilita as comunicações entre elas, uma vez que quaisquer estruturas manipuladas de maneira particionada podem ser posicionadas em áreas de memória comuns, acessíveis por todas as *threads*.\n",
        "\n",
        "Por outro lado, a consistência dos dados compartilhados pode depender de certos acessos ocorrerem de **maneira exclusiva** e é claro que essa sincronização não seria eficiente se fosse implementada com algum tipo de ***busy waiting***, salvo em bloqueios de curtíssima duração.\n",
        "\n",
        "```\n",
        "while(recurso_ocupado())\n",
        "  fica_aqui_à_toa_gastando_fatia_de_tempo_até_outra_tarefa_liberá-lo();\n",
        "```\n",
        "\n",
        "Assim, a ideia é ter mecanismos de sincronização e exclusão mútua que possibilitem que as tarefas sejam automaticamente suspensas quando condições necessárias não são satisfeitas.\n",
        "\n",
        "Desta forma, a tarefa que aguarda uma condição pode ser tirada de execução e outra tarefa pode ser selecionada para ocupar o processador que se tornou disponível agora.\n",
        "\n",
        "O primeiro passo para isso é ter uma biblioteca padronizada que ofereça esses serviços. No cado do uso de *threads* com a biblioteca ***pthreads***, há uma série de estruturas de sincronização, como pode ser visto em [pthread.h](https://man7.org/linux/man-pages/man0/pthread.h.0p.html).\n",
        "\n",
        "É útil para a aplicação usar bibliotecas padronizadas, já que isso aumenta a portabilidade dos programas.\n",
        "\n",
        "* No caso específico do sistema Linux, por razões de eficiência, as implementações dessas bibliotecas procuram fazer todas as operações possíveis no \"espaço de usuário\" (*user space*), evitando o custo dos mecanismos de chamada de sistema. Isto é importante, já que a eficiência dos mecanismos de sincronização é fundamental para o bom desempenho das aplicações.\n",
        "\n",
        "* Quando o apoio do SO (Linux) é necessário para as sincronizações, a chamada [futex](https://man7.org/linux/man-pages/man2/futex.2.html) pode ser usada, por exemplo, tanto para bloquear (***FUTEX_WAIT***), quanto para acordar (***FUTEX_WAKE***) tarefas.\n",
        "\n",
        "Quando vai bloquear uma tarefa, o SO primeiro ajusta e salva informações de contexto da tarefa que emite a chamada. O descritor desta tarefa é então \"desligado\" da lista de tarefas prontas e inserido na fila das tarefas que aguardam que essa condição seja satisfeita. Tipicamente, a tarefa é inserida na fila de tarefas associada ao semáforo ou mutex em questão (ou futex, no Linux). O SO segue selecionando outra tarefa pronta para execução e restaurando seu contexto para que ela volte a ser executada.\n",
        "\n",
        "Pensando que estamos estudando a lógica dos mecanismos de sincronização e que queremos criar programas portáteis, sigamos usando as APIs POSIX e os mecanismos providos para isto!\n",
        "\n"
      ]
    },
    {
      "cell_type": "markdown",
      "metadata": {
        "id": "rynBgQq0mBT9"
      },
      "source": [
        "# Variáveis compartilhadas\n",
        "\n",
        "Em muitos casos, a sincronização de tarefas é necessária apenas para a atualização de alguma variável.\n",
        "\n",
        "Se esse ajuste é apenas de escrita, ou seja, é preciso apenas sobrepor o valor atual desta variável, trata-se de uma operação rápida, que consome apenas 1 instrução do processador, e não há risco de gerar-se valores inconsistentes.\n",
        "\n",
        "Já se a atualização depende do valor atual desta variável, então é preciso ler o valor atual, aplicar a modificação e salvar o novo valor. É aí que está o problema: e se uma *thread* **lê** o valor, ajusta sua cópia e, antes de salvar o valor atualizado, o valor original for **lido** por outra *thread*, que irá também atualizá-lo e salvá-lo?\n",
        "\n",
        "O valor resultante vai ser aquele que for salvo por último, sem refletir a mudança que foi feita por uma das *threads* neste caso.\n"
      ]
    },
    {
      "cell_type": "markdown",
      "metadata": {
        "id": "1bxIecjM3FGo"
      },
      "source": [
        "# Atualizando variável global por múltiplas *threads*\n",
        "\n",
        "Mas, qual é o risco efetivo de isto ocorrer?\n",
        "\n",
        "Considere 8 *threads* que querem alterar o valor de uma variável compartilhada, sendo executadas em um computador com 8 *cores*. Teoricamente, se não há outras tarefas prontas para execução, todas podem estar executando essa operação **ao mesmo tempo**, já que há um *core* para cada uma.\n",
        "\n",
        "Num outro cenário, é possível ter mais *threads* do que processadores, de forma que o SO vai ficar alternando o uso do(s) processsador(es) entre elas.\n",
        "\n",
        "Como cada *thread* vai receber **fatias de tempo** de uso do processador, é possível que o instante de troca de contexto ocorra exatamente entre a instrução de consulta e a atualização da variável compartilhada.\n",
        "\n",
        "Vejamos um exemplo de código em que muitas *threads* vão tentar incremenar um contador muitas vezes, sem exclusão mútua.\n",
        "\n",
        "Executem o programa várias vezes e observem o valor resultante, que deveria ser igual ao número de *threads* vezes o número de iterações.\n",
        "\n"
      ]
    },
    {
      "cell_type": "code",
      "metadata": {
        "colab": {
          "base_uri": "https://localhost:8080/"
        },
        "id": "B932hR-tbsKn",
        "outputId": "ce704e41-9f53-43d9-dcce-d4f37e4637b7"
      },
      "source": [
        "%%writefile global.c\n",
        "\n",
        "/* Baseado em\n",
        "   https://stackoverflow.com/questions/2353371/how-to-do-an-atomic-increment-and-fetch-in-c\n",
        "   https://en.cppreference.com/w/c/language/atomic\n",
        " */\n",
        "\n",
        "#include <pthread.h>\n",
        "#include <stdio.h>\n",
        "\n",
        "// #define  NUM_THREADS   1000\n",
        "// #define  NUM_ITERS     1000\n",
        "#define  NUM_THREADS   100\n",
        "#define  NUM_ITERS     10000\n",
        "\n",
        "int global = 0;\n",
        "\n",
        "void*\n",
        "threadFun (void *arg)\n",
        "{\n",
        "  for (int i = 0; i < NUM_ITERS; ++i)\n",
        "    global++;\n",
        "\n",
        "  return NULL;\n",
        "}\n",
        "\n",
        "int\n",
        "main(void)\n",
        "{\n",
        "  int i;\n",
        "  pthread_t threads[NUM_THREADS];\n",
        "\n",
        "  for (i = 0; i < NUM_THREADS; ++i)\n",
        "    pthread_create(&threads[i], NULL, threadFun, NULL);\n",
        "\n",
        "  for (i = 0; i < NUM_THREADS; ++i)\n",
        "    pthread_join(threads[i], NULL);\n",
        "\n",
        "  printf(\"global: %d\\n\",global);\n",
        "\n",
        "  return 0;\n",
        "}\n"
      ],
      "execution_count": null,
      "outputs": [
        {
          "output_type": "stream",
          "name": "stdout",
          "text": [
            "Writing global.c\n"
          ]
        }
      ]
    },
    {
      "cell_type": "code",
      "metadata": {
        "colab": {
          "base_uri": "https://localhost:8080/"
        },
        "id": "mOgDp9ECcwPV",
        "outputId": "90dc4745-3d73-45a6-8642-c3867bfde296"
      },
      "source": [
        "! if [ ! global -nt global.c ]; then gcc -Wall global.c -o global -pthread; fi\n",
        "! time ./global"
      ],
      "execution_count": null,
      "outputs": [
        {
          "output_type": "stream",
          "name": "stdout",
          "text": [
            "global: 969205\n",
            "\n",
            "real\t0m0.012s\n",
            "user\t0m0.003s\n",
            "sys\t0m0.006s\n"
          ]
        }
      ]
    },
    {
      "cell_type": "markdown",
      "metadata": {
        "id": "c4tKrW9x-JoA"
      },
      "source": [
        "Dificilmente gerou 1.000.000, né?!"
      ]
    },
    {
      "cell_type": "markdown",
      "metadata": {
        "id": "fEPFDlhlfJm5"
      },
      "source": [
        "# Sincronizando com *mutexes*\n",
        "\n",
        "Vejamos agora como usar um ***mutex*** para a sincronização neste caso.\n",
        "\n",
        "A região crítica é o trecho de código que tem que ser executado com exclusão mútua. Neste problema, é o trecho em que uma *thread* incrementa o contador a partir de seu valor atual."
      ]
    },
    {
      "cell_type": "code",
      "metadata": {
        "colab": {
          "base_uri": "https://localhost:8080/"
        },
        "id": "cXiM_t7WfTIQ",
        "outputId": "11a30656-8e19-47c0-cbb8-4d66f3906900"
      },
      "source": [
        "%%writefile global-mtx.c\n",
        "\n",
        "#include <pthread.h>\n",
        "#include <stdio.h>\n",
        "\n",
        "// #define  NUM_THREADS   1000\n",
        "// #define  NUM_ITERS     1000\n",
        "#define  NUM_THREADS   100\n",
        "#define  NUM_ITERS     10000\n",
        "\n",
        "int global = 0;\n",
        "\n",
        "pthread_mutex_t _mutex;\n",
        "\n",
        "void*\n",
        "threadFun (void *arg)\n",
        "{\n",
        "  for (int i = 0; i < NUM_ITERS; ++i) {\n",
        "    pthread_mutex_lock(&_mutex);\n",
        "      global++;                        // seção crítica\n",
        "    pthread_mutex_unlock(&_mutex);\n",
        "  }\n",
        "  return NULL;\n",
        "}\n",
        "\n",
        "int\n",
        "main(void)\n",
        "{\n",
        "  int i;\n",
        "  pthread_t threads[NUM_THREADS];\n",
        "\n",
        "  pthread_mutex_init(&_mutex, NULL);\n",
        "\n",
        "  for (i = 0; i < NUM_THREADS; ++i)\n",
        "    pthread_create(&threads[i], NULL, threadFun, NULL);\n",
        "\n",
        "  for (i = 0; i < NUM_THREADS; ++i)\n",
        "    pthread_join(threads[i], NULL);\n",
        "\n",
        "  printf(\"global: %d\\n\",global);\n",
        "\n",
        "  pthread_mutex_destroy (&_mutex);\n",
        "\n",
        "  return 0;\n",
        "}\n"
      ],
      "execution_count": null,
      "outputs": [
        {
          "output_type": "stream",
          "name": "stdout",
          "text": [
            "Writing global-mtx.c\n"
          ]
        }
      ]
    },
    {
      "cell_type": "code",
      "metadata": {
        "colab": {
          "base_uri": "https://localhost:8080/"
        },
        "id": "t3PZ1p40fZ_1",
        "outputId": "6550975a-9a6f-4d77-de0b-1e67e46a731a"
      },
      "source": [
        "! if [ ! global-mtx -nt global-mtx.c ]; then gcc -Wall global-mtx.c -o global-mtx -pthread; fi\n",
        "! time ./global-mtx"
      ],
      "execution_count": null,
      "outputs": [
        {
          "output_type": "stream",
          "name": "stdout",
          "text": [
            "global: 1000000\n",
            "\n",
            "real\t0m0.066s\n",
            "user\t0m0.045s\n",
            "sys\t0m0.032s\n"
          ]
        }
      ]
    },
    {
      "cell_type": "markdown",
      "source": [
        "Com a execução do código acima, vê-se que o valor final do contador está correto.\n",
        "\n",
        "Por outro lado, a execução foi significativamente mais lenta."
      ],
      "metadata": {
        "id": "vg-yOphtEI-e"
      }
    },
    {
      "cell_type": "markdown",
      "metadata": {
        "id": "mTrYOq68hVAP"
      },
      "source": [
        "# Sincronizando com *spins*\n",
        "\n",
        "Além dos *mutexes*, é possível usar ***spin*** para a sincronização. Como a operação de atualização do contado requer um bloqueio de curtíssima duração, parece que não seria ruim usar ***busy waiting*** neste caso.\n",
        "\n",
        "Isso é o que faz o mecanismo de *spin*, sem risco de haver a suspensão da tarefa corrente se houver uma outra tarefa em sua seção crítica, executando com exclusão mútua.\n",
        "\n",
        "Vejam que o código é praticamente igual ao que usa *mutex*!"
      ]
    },
    {
      "cell_type": "code",
      "metadata": {
        "colab": {
          "base_uri": "https://localhost:8080/"
        },
        "id": "HebbwdpphZ77",
        "outputId": "5f0b3336-d89f-441b-8265-fc3276aee500"
      },
      "source": [
        "%%writefile global-spin.c\n",
        "\n",
        "#include <pthread.h>\n",
        "#include <stdio.h>\n",
        "\n",
        "// #define  NUM_THREADS   1000\n",
        "// #define  NUM_ITERS     1000\n",
        "#define  NUM_THREADS   100\n",
        "#define  NUM_ITERS     10000\n",
        "\n",
        "int global = 0;\n",
        "\n",
        "// pthread_mutex_t _mutex;\n",
        "pthread_spinlock_t _slock;\n",
        "\n",
        "void*\n",
        "threadFun (void *arg)\n",
        "{\n",
        "  for (int i = 0; i < NUM_ITERS; ++i) {\n",
        "    // pthread_mutex_lock(&_mutex);\n",
        "\t  pthread_spin_lock(&_slock);\n",
        "      global++;\n",
        "    // pthread_mutex_unlock(&_mutex);\n",
        "\t  pthread_spin_unlock(&_slock);\n",
        "  }\n",
        "  return NULL;\n",
        "}\n",
        "\n",
        "int\n",
        "main(void)\n",
        "{\n",
        "  int i;\n",
        "  pthread_t threads[NUM_THREADS];\n",
        "\n",
        "  // pthread_mutex_init(&_mutex, NULL);\n",
        "\tpthread_spin_init(&_slock, PTHREAD_PROCESS_PRIVATE);\n",
        "\n",
        "  for (i = 0; i < NUM_THREADS; ++i)\n",
        "    pthread_create(&threads[i], NULL, threadFun, NULL);\n",
        "\n",
        "  for (i = 0; i < NUM_THREADS; ++i)\n",
        "    pthread_join(threads[i], NULL);\n",
        "\n",
        "  printf(\"global: %d\\n\",global);\n",
        "\n",
        "  // pthread_mutex_destroy (&_mutex);\n",
        "\tpthread_spin_destroy (&_slock);\n",
        "\n",
        "  return 0;\n",
        "}\n"
      ],
      "execution_count": null,
      "outputs": [
        {
          "output_type": "stream",
          "name": "stdout",
          "text": [
            "Writing global-spin.c\n"
          ]
        }
      ]
    },
    {
      "cell_type": "code",
      "metadata": {
        "colab": {
          "base_uri": "https://localhost:8080/"
        },
        "id": "4tKNI5zuhfED",
        "outputId": "0440459f-a16c-4386-d090-50720559fb55"
      },
      "source": [
        "! if [ ! global-spin -nt global-spin.c ]; then gcc -Wall global-spin.c -o global-spin -pthread; fi\n",
        "! time ./global-spin"
      ],
      "execution_count": null,
      "outputs": [
        {
          "output_type": "stream",
          "name": "stdout",
          "text": [
            "global: 1000000\n",
            "\n",
            "real\t0m0.025s\n",
            "user\t0m0.011s\n",
            "sys\t0m0.004s\n"
          ]
        }
      ]
    },
    {
      "cell_type": "markdown",
      "metadata": {
        "id": "21JZuSz9b8F-"
      },
      "source": [
        "# Instruções de acesso à memória\n",
        "\n",
        "Vejamos o código C a seguir, que ilustra a atualização do conteúdo de uma variável,\n",
        "\n",
        "```\n",
        "int\n",
        "main()\n",
        "{\n",
        "  int val;\n",
        "  val = 3;\n",
        "  val = val +2;\n",
        "\n",
        "  return 0;\n",
        "}\n",
        "```\n",
        "cujo código *assembly* pode ser visto a seguir.\n",
        "\n",
        "\n",
        "```\n",
        "TDump of assembler code for function main:\n",
        "   0x0000000100003f90  <+0>:\tpush   %rbp\n",
        "   0x0000000100003f91  <+1>:\tmov    %rsp,%rbp\n",
        "   0x0000000100003f94  <+4>:\txor    %eax,%eax\n",
        "   0x0000000100003f96  <+6>:\tmovl   $0x0,-0x4(%rbp)\n",
        "   0x0000000100003f9d <+13>:\tmovl   $0x3,-0xc(%rbp)\n",
        "   0x0000000100003fa4 <+20>:\tmov    -0xc(%rbp),%ecx\n",
        "   0x0000000100003fa7 <+23>:\tadd    $0x2,%ecx\n",
        "   0x0000000100003faa <+26>:\tmov    %ecx,-0xc(%rbp)\n",
        "   0x0000000100003fad <+29>:\tpop    %rbp\n",
        "   0x0000000100003fae <+30>:\tret    \n",
        "End of assembler dump.\n",
        "```\n",
        "\n",
        "Com relação à variável e ao valor de interesse:\n",
        "\n",
        "* **val** foi alocada na posição **topo da pilha** (%rbp) -12(0xc)\n",
        "* o conteúdo desta posição de memória é copiado para um registrador (ecx)\n",
        "* O valor a ser somato é adicionado diretamente ao conteúdo do registrador (ecx)\n",
        "* o valor resultante no registrador é copiado para a posição de memória reservada para a variável (rbp -0xc).\n",
        "\n",
        "Como se vê, para alterar o conteúdo de uma posição de memória, seu valor foi copiado para um registrador (ecx), onde recebeu o incremento, e depois foi copiado de volta para a posição de memória.\n",
        "\n",
        "<br>\n",
        "\n",
        "# Incremento atômico\n",
        "\n",
        "Não se trata de enriquecimento de Urânio ou coisa assim :-/ O uso do termo **operação atômica** em computação, serve para identificar um bloco de código indivisível, ou seja, cujas instruções devem ser executadas em totalidade antes que o processador seja alocado a outra tarfa.\n",
        "\n",
        "Felizmente, há nos processadores instruções que conseguem ler e alterar o valor de uma posição de memória em um único ciclo, ou ao menos impedir o acesso à memória entre uma operação de leitura e escrita na mesma posição.\n",
        "\n",
        "Tipicamente, esse recurso é chamado de [Fetch-and-add](https://en.wikipedia.org/wiki/Fetch-and-add), mas há outras operações atômicas possíveis também.\n",
        "\n",
        "Há ainda operações do tipo [Test-and-set](https://en.wikipedia.org/wiki/Test-and-set), que também são úteis para realizar uma consulta e alteração do valor de uma posição de memória de forma atômica.\n",
        "\n",
        "Em termos de uso desses mecanismos na programação em alto nível, há recursos na linguagem C/C++, por exemplo que traduzem uma especificação lógica desta forma em instruções do processador usado na geração de código.\n",
        "\n",
        "https://en.cppreference.com/w/c/atomic/atomic_fetch_add\n",
        "\n",
        "https://en.wikipedia.org/wiki/Compare-and-swap\n"
      ]
    },
    {
      "cell_type": "markdown",
      "source": [
        "## C/C++ atomic bultins\n",
        "\n",
        "\n",
        "Em C/C++ há ainda uma série de construções que permitem realizar acessos atômicos a variáveis sem bloqueio.\n",
        "\n",
        "Uma lista dessas construções pode ser vista em https://gcc.gnu.org/onlinedocs/gcc/_005f_005fatomic-Builtins.html\n",
        "\n",
        "Isso inclui, por exemplo:\n",
        "\n",
        "* Built-in Function: type __atomic_fetch_add (type *ptr, type val, int memorder)\n",
        "* Built-in Function: type __atomic_fetch_sub (type *ptr, type val, int memorder)\n",
        "* Built-in Function: type __atomic_fetch_and (type *ptr, type val, int memorder)\n",
        "* Built-in Function: type __atomic_fetch_xor (type *ptr, type val, int memorder)\n",
        "* Built-in Function: type __atomic_fetch_or (type *ptr, type val, int memorder)\n",
        "* Built-in Function: type __atomic_fetch_nand (type *ptr, type val, int memorder)\n",
        "\n",
        "No caso da manipulação que estamos fazendo no programa *multithreaded* exemplo, podemos usar ***__atomic_fetch_add***.\n",
        "\n",
        "```\n",
        "int global = 0;\n",
        "\n",
        "    __atomic_fetch_add(&global, 1, __ATOMIC_SEQ_CST);\n",
        "```\n",
        "\n",
        "Cabe à implementação do compilador tratar isso, que em geral vai ser traduzido para alguma instrução que permite a manipulação desejada de forma atômica.\n",
        "\n"
      ],
      "metadata": {
        "id": "7WYcI_CwK7Mx"
      }
    },
    {
      "cell_type": "markdown",
      "metadata": {
        "id": "oW7TcvjZKJlo"
      },
      "source": [
        "# C/C++: _Atomic\n",
        "\n",
        "Em C/C++, há algumas formas para fazer com que algumas operações de atualização de conteúdos de posição de memória sejam feitas com o suporte de instruções do processador para realizar isso de forma **atômica**.\n",
        "\n",
        "É importante observar, contudo, que a atomicidade é obtida ***sem o uso de bloqueios***, mas explorando instruções específicas do processador para o qual o código é gerado na compilação.\n",
        "\n",
        "\n",
        "## _Atomic\n",
        "\n",
        "Objetos do tipo *atomic* são os únicos **livres de condição de corrida** (***data races***), e podem ser modificados simultaneamente por mais de uma *threads*.\n",
        "\n",
        "```\n",
        "Ex:\n",
        "\n",
        "_Atomic int contador;\n",
        "```\n",
        "\n",
        "\n",
        "https://en.cppreference.com/w/c/language/atomic\n",
        "\n",
        "https://lumian2015.github.io/lockFreeProgramming/c11-features-in-currency.html\n",
        "\n",
        "```\n",
        "Syntax\n",
        "\n",
        "_Atomic ( type-name )   (1) \t(since C11)\n",
        "_Atomic type-name       (2) \t(since C11)\n",
        "\n",
        "1) Use as a type specifier; this designates a new atomic type\n",
        "2) Use as a type qualifier; this designates the atomic version of type-name.\n",
        "   In this role, it may be mixed with const, volatile, and restrict), although\n",
        "   unlike other qualifiers, the atomic version of type-name may have a\n",
        "   different size, alignment, and object representation.\n",
        "\n",
        "The header <stdatomic.h> defines 37 convenience macros, from atomic_bool to\n",
        "atomic_uintmax_t, which simplify the use of this keyword with built-in and\n",
        "library types.\n",
        "\n",
        "_Atomic const int * p1;  // p is a pointer to an atomic const int\n",
        "const atomic_int * p2;   // same\n",
        "const _Atomic(int) * p3; // same\n",
        "```\n",
        "\n",
        "```\n",
        "Objects of atomic types are the only objects that are free from data races,\n",
        "that is, they may be modified by two threads concurrently or modified by one\n",
        "and read by another.\n",
        "\n",
        "Each atomic object has its own associated modification order, which is a total\n",
        "order of modifications made to that object. If, from some thread's point of\n",
        "view, modification A of some atomic M happens-before modification B of the same\n",
        "atomic M, then in the modification order of M, A occurs before B.\n",
        "\n",
        "Note that although each atomic object has its own modification order, there is\n",
        "no single total order; different threads may observe modifications to different\n",
        "atomic objects in different orders.\n",
        "\n",
        "There are four coherences that are guaranteed for all atomic operations:\n",
        "\n",
        "* write-write coherence: If an operation A that modifies an atomic object M\n",
        "  happens-before an operation B that modifies M, then A appears earlier than B\n",
        "  in the modification order of M.\n",
        "\n",
        "* read-read coherence: If a value computation A of an atomic object M happens\n",
        "  before a value computation B of M, and A takes its value from a side effect X\n",
        "  on M, then the value computed by B is either the value stored by X or is the\n",
        "  value stored by a side effect Y on M, where Y appears later than X in the\n",
        "  modification order of M.\n",
        "\n",
        "* read-write coherence: If a value computation A of an atomic object M\n",
        "  happens-before an operation B on M, then A takes its value from a side effect\n",
        "  X on M, where X appears before B in the modification order of M.\n",
        "\n",
        "* write-read coherence: If a side effect X on an atomic object M happens-before\n",
        "  a value computation B of M, then the evaluation B takes its value from X or\n",
        "  from a side effect Y that appears after X in the modification order of M.\n",
        "```\n",
        "\n"
      ]
    },
    {
      "cell_type": "markdown",
      "source": [
        "Uma observação em relação à compilação de programas que usam o recurso __Atomic no gcc é inclusão de um arquivo de definições específico (<stdatomic.h>) e incluir explicitamente a biblioteca ***libatomic*** na geração de código.\n",
        "\n",
        "```Please be sure to include the header `#include<stdatomic.h>\" when you are us`ng the atomic type in your program.```\n",
        "\n",
        "A ligação do código é feita com o parâmetro **-latomic**, como ilustrado a seguir:\n",
        "\n",
        "```\n",
        "$ gcc prog.c  ... .... -latomic\n",
        "```"
      ],
      "metadata": {
        "id": "itqhWi6mrWBt"
      }
    },
    {
      "cell_type": "code",
      "metadata": {
        "colab": {
          "base_uri": "https://localhost:8080/"
        },
        "id": "n8kgTFk4TWVW",
        "outputId": "f0c1c2cd-cb31-4f78-a761-c217d2b4cfa3"
      },
      "source": [
        "%%writefile atomic.c\n",
        "\n",
        "/* https://stackoverflow.com/questions/2353371/how-to-do-an-atomic-increment-and-fetch-in-c */\n",
        "\n",
        "#include <pthread.h>\n",
        "#include <stdlib.h>\n",
        "#include <stdio.h>\n",
        "#include <stdatomic.h>\n",
        "\n",
        "#define  NUM_THREADS 100\n",
        "#define  NUM_ITERS   10000\n",
        "\n",
        "_Atomic int atomic_global = 0;\n",
        "int global = 0;\n",
        "int outra_global =0;\n",
        "\n",
        "void*\n",
        "main_thread(void *arg)\n",
        "{\n",
        "  int i;\n",
        "\n",
        "  for (i = 0; i < NUM_ITERS; ++i) {\n",
        "\n",
        "    // usando operação \"instrinsic\", que mapeia diretamente para instrução do processador\n",
        "    __atomic_fetch_add(&global, 1, __ATOMIC_SEQ_CST);\n",
        "\n",
        "    // usando variável declarada como __Atomic\n",
        "    atomic_global++;\n",
        "\n",
        "    // Esta forma é sujeita a falhas...\n",
        "    outra_global++;\n",
        "  }\n",
        "  return NULL;\n",
        "}\n",
        "\n",
        "int\n",
        "main(void)\n",
        "{\n",
        "  int i;\n",
        "  pthread_t threads[NUM_THREADS];\n",
        "\n",
        "  for (i = 0; i < NUM_THREADS; ++i)\n",
        "    pthread_create(&threads[i], NULL, main_thread, NULL);\n",
        "\n",
        "  for (i = 0; i < NUM_THREADS; ++i)\n",
        "    pthread_join(threads[i], NULL);\n",
        "\n",
        "  printf(\"global: %d\\n\", global);\n",
        "  printf(\"_Atomic global: %d\\n\", atomic_global);\n",
        "  printf(\"outra global: %d\\n\", outra_global);\n",
        "\n",
        "  return 0;\n",
        "}\n"
      ],
      "execution_count": null,
      "outputs": [
        {
          "output_type": "stream",
          "name": "stdout",
          "text": [
            "Writing atomic.c\n"
          ]
        }
      ]
    },
    {
      "cell_type": "code",
      "metadata": {
        "colab": {
          "base_uri": "https://localhost:8080/"
        },
        "id": "beVjXeLhTbvA",
        "outputId": "8c75703f-6cb9-4d5a-8616-9d691ec65bef"
      },
      "source": [
        "! if [ ! atomic -nt atomic.c ]; then gcc -Wall atomic.c -o atomic -pthread; fi\n",
        "! time ./atomic"
      ],
      "execution_count": null,
      "outputs": [
        {
          "output_type": "stream",
          "name": "stdout",
          "text": [
            "global: 1000000\n",
            "_Atomic global: 1000000\n",
            "outra global: 873788\n",
            "\n",
            "real\t0m0.028s\n",
            "user\t0m0.031s\n",
            "sys\t0m0.006s\n"
          ]
        }
      ]
    },
    {
      "cell_type": "markdown",
      "metadata": {
        "id": "E71mdyWqfRI5"
      },
      "source": [
        "# Instruções x64\n",
        "\n",
        "Vejamos o código gerado pelo compilador C para os recursos de operações atômicas, a declaração ***_Atomic*** e um exemplo de primitica *intrinsic* ***__atomic_fetch_add()***.\n",
        "\n"
      ]
    },
    {
      "cell_type": "code",
      "metadata": {
        "colab": {
          "base_uri": "https://localhost:8080/"
        },
        "id": "FDGRDylZx0jC",
        "outputId": "1a204468-6f19-4bea-9aa6-d60d264ca794"
      },
      "source": [
        "%%writefile at.c\n",
        "\n",
        "_Atomic int atomic = 0;\n",
        "\n",
        "int\n",
        "main()\n",
        "{\n",
        "  atomic = atomic +2;\n",
        "\n",
        "  return 0;\n",
        "}"
      ],
      "execution_count": null,
      "outputs": [
        {
          "output_type": "stream",
          "name": "stdout",
          "text": [
            "Writing at.c\n"
          ]
        }
      ]
    },
    {
      "cell_type": "markdown",
      "metadata": {
        "id": "ifWIay_20M9z"
      },
      "source": [
        "```\n",
        "(gdb) disass\n",
        "Dump of assembler code for function main:\n",
        "   0x000055ea3f8c466a <+0>:\tpush   %rbp\n",
        "   0x000055ea3f8c466b <+1>:\tmov    %rsp,%rbp\n",
        "   0x000055ea3f8c466e <+4>:\tsub    $0x10,%rsp\n",
        "=> 0x000055ea3f8c4672 <+8>:\tmov    %fs:0x28,%rax\n",
        "   0x000055ea3f8c467b <+17>:\tmov    %rax,-0x8(%rbp)\n",
        "   0x000055ea3f8c467f <+21>:\txor    %eax,%eax\n",
        "   0x000055ea3f8c4681 <+23>:\tmov    0x20098d(%rip),%eax        # 0x55ea3fac5014 <atomic>\n",
        "   0x000055ea3f8c4687 <+29>:\tmov    %eax,-0x10(%rbp)\n",
        "   0x000055ea3f8c468a <+32>:\tmov    -0x10(%rbp),%eax\n",
        "   0x000055ea3f8c468d <+35>:\tadd    $0x2,%eax\n",
        "   0x000055ea3f8c4690 <+38>:\tmov    %eax,-0xc(%rbp)\n",
        "   0x000055ea3f8c4693 <+41>:\tmov    -0xc(%rbp),%eax\n",
        "   0x000055ea3f8c4696 <+44>:\tmov    %eax,0x200978(%rip)        # 0x55ea3fac5014 <atomic>\n",
        "   0x000055ea3f8c469c <+50>:\tmfence\n",
        "   0x000055ea3f8c469f <+53>:\tmov    $0x0,%eax\n",
        "   0x000055ea3f8c46a4 <+58>:\tmov    -0x8(%rbp),%rdx\n",
        "   0x000055ea3f8c46a8 <+62>:\txor    %fs:0x28,%rdx\n",
        "   0x000055ea3f8c46b1 <+71>:\tje     0x55ea3f8c46b8 <main+78>\n",
        "   0x000055ea3f8c46b3 <+73>:\tcallq  0x55ea3f8c4540 <__stack_chk_fail@plt>\n",
        "   0x000055ea3f8c46b8 <+78>:\tleaveq\n",
        "   ```"
      ]
    },
    {
      "cell_type": "markdown",
      "source": [
        "Segundo as especificaçẽs do processador X86_64, a instrução **mfence** força a consistência das operações de acesso à memória (*load & store*) anteriores à invocação desta instrução.\n",
        "\n",
        "*Performs a serializing operation on all load-from-memory and store-to-memory in`tructions that were issued prior the MFENCE instruction.*\n",
        "*This serializing operation guarantees that every load and store instruction that precedes the MFENCE instruction in program order becomes globally visible before any load or store instruction that follows the MFENCE instruction.*\n",
        "*The MFENCE instruction is ordered with respect to all load and store instructions, other MFENCE instructions, any LFENCE and SFENCE instructions, and any serializing instructions (such as the CPUID instruction).*\n",
        "*MFENCE does not serialize the instruction stream.*\n",
        "\n",
        "https://www.felixcloutier.com/x86/mfence\n",
        "\n"
      ],
      "metadata": {
        "id": "syewbTVyP80j"
      }
    },
    {
      "cell_type": "code",
      "metadata": {
        "id": "cwTUz8l_yA9u",
        "colab": {
          "base_uri": "https://localhost:8080/"
        },
        "outputId": "9aedff5e-591c-4235-f48c-638717e3b3e2"
      },
      "source": [
        "! if $( ! apt list gdb | grep \"installed\" &> /dev/null ) ; then apt install gdb ; fi\n",
        "! if [ ! at -nt at.c ]; then gcc -Wall -g at.c -o at ; fi\n",
        "# ! objdump -d -j .text ./at\n",
        "# ! gdb -batch -ex \"disassemble/rs main\" ./at\n",
        "! echo && objdump -D ./at | grep -A25 main.:"
      ],
      "execution_count": null,
      "outputs": [
        {
          "output_type": "stream",
          "name": "stdout",
          "text": [
            "\n",
            "WARNING: apt does not have a stable CLI interface. Use with caution in scripts.\n",
            "\n",
            "\n",
            "0000000000001149 <main>:\n",
            "    1149:\tf3 0f 1e fa          \tendbr64 \n",
            "    114d:\t55                   \tpush   %rbp\n",
            "    114e:\t48 89 e5             \tmov    %rsp,%rbp\n",
            "    1151:\t48 83 ec 10          \tsub    $0x10,%rsp\n",
            "    1155:\t64 48 8b 04 25 28 00 \tmov    %fs:0x28,%rax\n",
            "    115c:\t00 00 \n",
            "    115e:\t48 89 45 f8          \tmov    %rax,-0x8(%rbp)\n",
            "    1162:\t31 c0                \txor    %eax,%eax\n",
            "    1164:\t8b 05 aa 2e 00 00    \tmov    0x2eaa(%rip),%eax        # 4014 <atomic>\n",
            "    116a:\t89 45 f0             \tmov    %eax,-0x10(%rbp)\n",
            "    116d:\t8b 45 f0             \tmov    -0x10(%rbp),%eax\n",
            "    1170:\t83 c0 02             \tadd    $0x2,%eax\n",
            "    1173:\t89 45 f4             \tmov    %eax,-0xc(%rbp)\n",
            "    1176:\t8b 45 f4             \tmov    -0xc(%rbp),%eax\n",
            "    1179:\t87 05 95 2e 00 00    \txchg   %eax,0x2e95(%rip)        # 4014 <atomic>\n",
            "    117f:\tb8 00 00 00 00       \tmov    $0x0,%eax\n",
            "    1184:\t48 8b 55 f8          \tmov    -0x8(%rbp),%rdx\n",
            "    1188:\t64 48 2b 14 25 28 00 \tsub    %fs:0x28,%rdx\n",
            "    118f:\t00 00 \n",
            "    1191:\t74 05                \tje     1198 <main+0x4f>\n",
            "    1193:\te8 b8 fe ff ff       \tcall   1050 <__stack_chk_fail@plt>\n",
            "    1198:\tc9                   \tleave  \n",
            "    1199:\tc3                   \tret    \n",
            "\n",
            "Disassembly of section .fini:\n"
          ]
        }
      ]
    },
    {
      "cell_type": "markdown",
      "source": [
        "[Intel® 64 and IA-32 Architectures Software Developer's  Manual Combined Volumes 3A, 3B, 3C, and 3D: System Programming Guide](https://cdrdv2.intel.com/v1/dl/getContent/671447)\n",
        "\n",
        "...<br>\n",
        "**XCHG** Exchange Register/Memory With Register<br>\n",
        "...<br>\n",
        "*Exchanges the contents of the destination (first) and source (second) operands. The operands can be two general-purpose registers or a register and a memory location. If a memory operand is referenced, the processor’s locking\n",
        "protocol is automatically implemented for the duration of the exchange operation, regardless of the presence or absence of the LOCK prefix or of the value of the IOPL.*\n",
        "<br>\n",
        "*This instruction is useful for implementing semaphores or similar data structures for process synchronization. (See “Bus Locking” in Chapter 9 of the Intel® 64 and IA-32 Architectures Software Developer’s Manual, Volume 3A, for\n",
        "more information on bus locking.)*\n",
        "<br>\n",
        "...<br>\n",
        "**LOCK** Assert LOCK# Signal Prefix<br>\n",
        "...<br>\n",
        "Causes the processor’s LOCK# signal to be asserted during execution of the accompanying instruction (turns the instruction into an atomic instruction).\n",
        "<br>\n",
        "In a multiprocessor environment, the LOCK# signal ensures that the\n",
        "processor has exclusive use of any shared memory while the signal is asserted.\n",
        "<br>\n",
        "The LOCK prefix can be prepended only to the following instructions and only to those forms of the instructions where the destination operand is a memory operand: ADD, ADC, AND, BTC, BTR, BTS, CMPXCHG, CMPXCH8B, CMPXCHG16B, DEC, INC, NEG, NOT, OR, SBB, SUB, XOR, XADD, and XCHG.\n",
        "<br>\n",
        "...<br>\n",
        "*The XCHG instruction always asserts the LOCK# signal regardless of the presence or absence of the LOCK prefix.*\n",
        "\n",
        "*The LOCK prefix is typically used with the BTS instruction to **perform a read-modify-write operation** on a memory location in shared memory environment.*\n",
        "...<br>\n",
        "...<br>\n",
        "\n"
      ],
      "metadata": {
        "id": "_fktlpxXQufa"
      }
    },
    {
      "cell_type": "code",
      "metadata": {
        "colab": {
          "base_uri": "https://localhost:8080/"
        },
        "id": "-UAQTN1tyBcQ",
        "outputId": "6de82cb8-4715-4961-df97-adc0e253b634"
      },
      "source": [
        "%%writefile faa.c\n",
        "\n",
        "int global;\n",
        "\n",
        "int\n",
        "main()\n",
        "{\n",
        "  __atomic_fetch_add(&global, 1, __ATOMIC_SEQ_CST);\n",
        "\n",
        "  return 0;\n",
        "}\n"
      ],
      "execution_count": null,
      "outputs": [
        {
          "output_type": "stream",
          "name": "stdout",
          "text": [
            "Writing faa.c\n"
          ]
        }
      ]
    },
    {
      "cell_type": "code",
      "metadata": {
        "id": "9oqG9JLHyB42",
        "colab": {
          "base_uri": "https://localhost:8080/"
        },
        "outputId": "c3d1776f-3420-45e0-b0be-11780e3ae5ec"
      },
      "source": [
        "! if $( ! apt list gdb | grep \"installed\" &> /dev/null ) ; then apt install gdb ; fi\n",
        "! if [ ! faa -nt faa.c ]; then gcc -Wall -g faa.c -o faa ; fi\n",
        "# ! objdump -d -j .text ./faa\n",
        "! gdb -batch -ex \"disassemble/rs main\" ./faa\n",
        "# ! echo && objdump -D ./faa | grep -A9 main.:"
      ],
      "execution_count": null,
      "outputs": [
        {
          "output_type": "stream",
          "name": "stdout",
          "text": [
            "\n",
            "WARNING: apt does not have a stable CLI interface. Use with caution in scripts.\n",
            "\n",
            "Dump of assembler code for function main:\n",
            "faa.c:\n",
            "6\t{\n",
            "   0x0000000000001129 <+0>:\tf3 0f 1e fa\tendbr64 \n",
            "   0x000000000000112d <+4>:\t55\tpush   %rbp\n",
            "   0x000000000000112e <+5>:\t48 89 e5\tmov    %rsp,%rbp\n",
            "\n",
            "7\t  __atomic_fetch_add(&global, 1, __ATOMIC_SEQ_CST);\n",
            "   0x0000000000001131 <+8>:\tf0 83 05 db 2e 00 00 01\tlock addl $0x1,0x2edb(%rip)        # 0x4014 <global>\n",
            "\n",
            "8\t\n",
            "9\t  return 0;\n",
            "   0x0000000000001139 <+16>:\tb8 00 00 00 00\tmov    $0x0,%eax\n",
            "\n",
            "10\t}\n",
            "   0x000000000000113e <+21>:\t5d\tpop    %rbp\n",
            "   0x000000000000113f <+22>:\tc3\tret    \n",
            "End of assembler dump.\n"
          ]
        }
      ]
    },
    {
      "cell_type": "markdown",
      "metadata": {
        "id": "t7ogX8wvEUHD"
      },
      "source": [
        "Examinando o código *assembly* mostrado anteriormente, vê-se o uso do **prefixo** ***lock*** antes da instrução ***addl***. Segundo o [manual dos processadores X64 Intel](https://www.intel.com/content/dam/www/public/us/en/documents/manuals/64-ia-32-architectures-software-developer-instruction-set-reference-manual-325383.pdf), isso torna a instrução atômica, garantindo que o processador tenha acesso exclusivo ao uso de qualquer memória compartilhada para a operação seguinte.\n",
        "\n",
        "```\n",
        "Causes the processor’s LOCK# signal to be asserted during execution of the\n",
        "accompanying instruction (turns the instruction into an atomic instruction).\n",
        "In a multiprocessor environment, the LOCK# signal ensures that the processor\n",
        "has exclusive use of any shared memory while the signal is asserted.\n",
        "...\n",
        "ADD\n",
        "DescriptionAdds the destination operand (first operand) and the source operand\n",
        "(second operand) and then stores the result in the destination operand.\n",
        "...\n",
        "This instruction can be used with a LOCK prefix to allow the instruction to be\n",
        "executed atomically\n",
        "```\n",
        "Pronto, está feita a operação se ajuste do valor de um contador, a partir de seu valor atual, de foma atômica!\n",
        "\n",
        "Como se vê, isso pode ser bem mais rápido, e igualmente eficiente, em casos de bloqueio para ajuste de variável compartilhada!"
      ]
    },
    {
      "cell_type": "markdown",
      "source": [
        "Bons estudos e bons programas,\n",
        "\n",
        "Hélio"
      ],
      "metadata": {
        "id": "4t7dixgrrmhy"
      }
    }
  ]
}