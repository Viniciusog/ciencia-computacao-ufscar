{
  "nbformat": 4,
  "nbformat_minor": 0,
  "metadata": {
    "colab": {
      "provenance": []
    },
    "kernelspec": {
      "name": "python3",
      "display_name": "Python 3"
    }
  },
  "cells": [
    {
      "cell_type": "markdown",
      "metadata": {
        "id": "Rz_RZY-lGwjQ"
      },
      "source": [
        "PPD: OpenMP / Parallel Sections\n",
        "\n",
        "Hélio - DC/UFSCar - 2023"
      ]
    },
    {
      "cell_type": "markdown",
      "metadata": {
        "id": "PvGZftgluWbi"
      },
      "source": [
        "# Sections: dividindo trechos de código\n",
        "\n",
        "Usada também dentro de uma região paralela, a diretiva ***sections*** permite especificar blocos dentro dessa região que devem ser **divididos** entre as *threads* do time (não replicados).\n",
        "\n",
        "Cada *section* é executada apenas uma vez, por **qualquer uma** das *threads* no time. Dependendo do número de seções e do número de *threads* no time, pode haver *threads* executando mais de uma seções, assim como é possível que alguma *thread* não tenha seção para executar.\n",
        "\n",
        "Uma barreira é inserida automaticamente ao final das *sections*, exceto se a cláusula *nowait* for especificada na diretiva.\n",
        "\n",
        "```\n",
        "#pragma omg sections [clause ...]  newline\n",
        "{\n",
        "  [#pragma omp section newline]\n",
        "    bloco_de_código\n",
        "  [#pragma omp section newline]\n",
        "    bloco_de_código\n",
        "  ...\n",
        "}\n",
        "```\n",
        "Cláusulas:\n",
        "```\n",
        "    private (list)\n",
        "    first private (list)\n",
        "    last private (list)\n",
        "    reduction (operator: list)\n",
        "    nowait\n",
        "```\n",
        "Vejamos o exemplo a seguir:\n",
        "\n",
        "```\n",
        "  #pragma omp parallel shared(a,b) private(i,tnum)\n",
        "  {\n",
        "    ... // Todas as threads do time executam esse trecho\n",
        "\n",
        "    #pragma omp sections\n",
        "    {\n",
        "      #pragma omp section\n",
        "      {\n",
        "         faça_isso();\n",
        "      }\n",
        "      #pragma omp section\n",
        "      {\n",
        "         faça_aquilo();\n",
        "      }\n",
        "      #pragma omp section\n",
        "      {\n",
        "         faça_ainda_outra_coisa();\n",
        "      }\n",
        "    }   // Fim das seções\n",
        "\n",
        "    ... // Todas as threads do time executam esse threcho\n",
        "\n",
        "  }    // Fim da região paralela\n",
        "}\n",
        "```\n"
      ]
    },
    {
      "cell_type": "code",
      "metadata": {
        "id": "ao0n-Tc0uUPo",
        "colab": {
          "base_uri": "https://localhost:8080/"
        },
        "outputId": "fda3f43d-7d36-4825-a378-c7e3cd7a8de6"
      },
      "source": [
        "%%writefile ps.c\n",
        "\n",
        "#include <stdio.h>\n",
        "#include <stdlib.h>\n",
        "#include <unistd.h>\n",
        "#include <omp.h>\n",
        "\n",
        "#define N       10\n",
        "#define NUM     3\n",
        "\n",
        "void\n",
        "func(int tnum)\n",
        "{\n",
        "  int i;\n",
        "  for(i=0; i < NUM; i++) {\n",
        "    printf(\"tnum: %d\\n\",tnum);\n",
        "    sleep(rand()%5);\n",
        "  }\n",
        "}\n",
        "\n",
        "int\n",
        "main ()\n",
        "{\n",
        "  int i,tnum;\n",
        "  float a[N], b[N];\n",
        "\n",
        "  // Inicializacoes\n",
        "  for (i=0; i < N; i++) {\n",
        "    a[i] = i * 1.5;\n",
        "    b[i] = i + 3.1415;\n",
        "  }\n",
        "\n",
        "  // Numero de secoes pode diferir do numero de threads / processadores disponiveis\n",
        "  // Nesse caso, vale a politica de escalonamento para atribuicoes...\n",
        "\n",
        "#pragma omp parallel shared(a,b) private(i,tnum)\n",
        "{\n",
        "  #pragma omp sections nowait\n",
        "  {\n",
        "    #pragma omp section\n",
        "    {\n",
        "      printf(\"First Section\\n\"); fflush(stdout);\n",
        "      tnum=omp_get_thread_num();\n",
        "      func(tnum);\n",
        "    }\n",
        "    #pragma omp section\n",
        "    {\n",
        "      tnum=omp_get_thread_num();\n",
        "      printf(\"Section 2\\n\"); fflush(stdout);\n",
        "      func(tnum);\n",
        "    }\n",
        "    #pragma omp section\n",
        "    {\n",
        "      tnum=omp_get_thread_num();\n",
        "      printf(\"3rd Section\\n\"); fflush(stdout);\n",
        "      func(tnum);\n",
        "    }\n",
        "    #pragma omp section\n",
        "    {\n",
        "      tnum=omp_get_thread_num();\n",
        "      printf(\"Section number 4\\n\"); fflush(stdout);\n",
        "      func(tnum);\n",
        "    }\n",
        "  }  // fim das secoes\n",
        "}  // fim da regiao paralela\n",
        "\n",
        "  return(0);\n",
        "}"
      ],
      "execution_count": null,
      "outputs": [
        {
          "output_type": "stream",
          "name": "stdout",
          "text": [
            "Writing ps.c\n"
          ]
        }
      ]
    },
    {
      "cell_type": "code",
      "metadata": {
        "id": "XmKiC0BFw_wC",
        "colab": {
          "base_uri": "https://localhost:8080/"
        },
        "outputId": "f2980117-798f-4908-d239-d7859cf4f88b"
      },
      "source": [
        "!gcc -Wall ps.c -o ps -fopenmp && ./ps\n",
        "# ! OMP_NUM_THREADS=2 ./ps\n",
        "# ! OMP_NUM_THREADS=4 ./ps\n",
        "# ! lscpu"
      ],
      "execution_count": null,
      "outputs": [
        {
          "output_type": "stream",
          "name": "stdout",
          "text": [
            "First Section\n",
            "tnum: 0\n",
            "Section 2\n",
            "tnum: 3\n",
            "3rd Section\n",
            "tnum: 2\n",
            "Section number 4\n",
            "tnum: 1\n",
            "tnum: 1\n",
            "tnum: 3\n",
            "tnum: 3\n",
            "tnum: 2\n",
            "tnum: 0\n",
            "tnum: 1\n",
            "tnum: 2\n",
            "tnum: 0\n"
          ]
        }
      ]
    },
    {
      "cell_type": "markdown",
      "source": [
        "# Parallel sections\n",
        "\n",
        "Assim como com a divisão de trabalho usando *for*, a construção *sections* pode ser declarada junto com a região paralela, caso essa seja a única construção dentro do bloco de código:\n",
        "\n",
        "```\n",
        "#pragma omp parallel sections [clause[ [,] clause] ... ] new-line\n",
        "{\n",
        "  [#pragma omp section new-line]\n",
        "    structured-block\n",
        "  [#pragma omp section new-line\n",
        "    structured-block]\n",
        "   ...\n",
        "}\n",
        "```"
      ],
      "metadata": {
        "id": "5elFvw9I8fak"
      }
    }
  ]
}