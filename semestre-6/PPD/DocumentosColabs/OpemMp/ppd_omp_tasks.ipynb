{
  "nbformat": 4,
  "nbformat_minor": 0,
  "metadata": {
    "colab": {
      "provenance": []
    },
    "kernelspec": {
      "name": "python3",
      "display_name": "Python 3"
    }
  },
  "cells": [
    {
      "cell_type": "markdown",
      "metadata": {
        "id": "8HQZpGawG9ld"
      },
      "source": [
        "# PPD: OpenMP / *tasks*\n",
        "\n",
        "Hélio - DC/UFSCar - 2023"
      ]
    },
    {
      "cell_type": "markdown",
      "metadata": {
        "id": "Ulgq4iJ5yjmF"
      },
      "source": [
        "# Tasks: criando tarefas sob demanda\n",
        "\n",
        "O modelo tradicional de programação com *threads* em OpenMP trata da criação de regiões paralelas, executadas por times de *threads*, e da eventual divisão de trabalho (*worksharing*) da região paralela entre as *threads* do time.\n",
        "\n",
        "Nesses casos, observa-se que:\n",
        "\n",
        "* O número de *threads* de uma região é pré-definido na criação dessa região paralela, e pode ser consultado pelas *threads* com a chamada *omp_get_num_threads*();\n",
        "* Cada *thread* pode saber qual é seu identificador lógico, obtido com a chamada *omp_get_thread_num*();\n",
        "* Programador preocupa-se principalmente com a divisão de carga entre as tarefas:\n",
        "* Programador pode definir como será a divisão de iterações de um *loop* (*schedule*);\n",
        "* Programador pode tomar decisões sobre o que executar em cada *thread*, em função do número lógico de cada uma delas no time.\n",
        "\n",
        "\n",
        "Ao criar uma região paralela, programador define quantas *threads* haverá neste time. As *threads* desta região paralela irão **replicar** a execução do bloco de código, ou **dividir** a execução das iterações de um *loop*, no caso de *parallel for*, ou **dividir** a execução das seções de código, no caso de *parallel sections*.\n",
        "\n",
        "Além de permitir a criação de tarefas implícitas, associadas às *threads* de um time numa região paralela, OpenMP permite a **criação de tarefas** sob demanda, dinamicamente, de maneira circunstancial ou recursiva, sem saber a priori quantas tarefas serão necessárias. Isso é feito com a diretiva ***task***.\n",
        "\n",
        "Na programação com tarefas (*tasks*), programador concentra-se em como particionar o código em blocos, que podem ser executados em paralelo; ou seja, em quais trechos de código podem ser transformados em tarefas independentes.\n",
        "\n",
        "Nesse modelo, cabe ao sistema em tempo de execução determinar como serão o escalonamento e a execução das tarefas (*tasks*) criadas.\n",
        "\n",
        "Resumidamente, uma *task* é um **trecho de código a mais** para ser executado por alguma das *threads* de um time já existente. Ou seja, a chamada *task* **não cria uma nova *thread*** para o time atual, mas apenas insere uma atividade a mais (tarefa) na lista de tarefas que o time de *threads* da região paralela atual tem para executar.\n",
        "\n",
        "<br>\n",
        "\n",
        "## task construct\n",
        "\n",
        "A diretiva *task* é usada dentro de uma região paralela e define uma tarefa específica. Essa tarefa pode ser executada pela *thread* que encontrar essa diretiva, ou deferida para execução por qualquer outra *thread* no time de *threads* corrente.\n",
        "\n",
        "Quando uma *task* é criada, se houver alguma *thread* ociosa no time da região paralela atual, a task pode ser executada imediatamente. Caso contrário, fica a critério do sistema em tempo de execução de OpenMP determinar quando esta task será executada.\n",
        "\n",
        "```\n",
        "#pragma omp task [clause ...] newline\n",
        "   structured_block\n",
        "\n",
        "clauses:\n",
        "   if (scalar expression)\n",
        "   untied\n",
        "   default (shared | none)\n",
        "   private (list)\n",
        "   firstprivate (list)\n",
        "   shared (list)\n",
        "   final (scalar-expression)\n",
        "   mergeable\n",
        "   depend(dependence-type : list)\n",
        "   priority(priority-value)\n",
        "```\n",
        "\n",
        "**Cláusulas da diretiva task**\n",
        "\n",
        "* **untied**: por padrão, uma *task* é executada pela *thread* que a criou. Quando a cláusula untied é usada, contudo, isso indica que a task pode ser executada por qualquer thread do time. Ao usar cláusula untied, é preciso cuidado com variáveis privadas. Contexto dessas variáveis pode mudar se task for executada por outra tarefa.\n",
        "* **mergeable**: quando presente, essa cláusula indica que a implementação pode juntar os ambientes de dados das tasks.\n",
        "* **final** (expr): serve para indicar se a task sendo criada será a última. Resumidamente, quando a criação de tarefas é usada de forma recursiva, essa cláusula permite especificar um nível máximo de profundidade para criação de novas tarefas.\n",
        "* **depend** (dependence-type : list): indica relações de dependência entre tasks ou iterações (ver detalhes no manual.)\n",
        "\n"
      ]
    },
    {
      "cell_type": "markdown",
      "source": [
        "## Exemplo do uso de tasks"
      ],
      "metadata": {
        "id": "vQMtLg_3EYaA"
      }
    },
    {
      "cell_type": "code",
      "metadata": {
        "colab": {
          "base_uri": "https://localhost:8080/"
        },
        "id": "ndqQk1kvyf7s",
        "outputId": "86292105-6bd6-42db-f91a-0f81acf2ccbd"
      },
      "source": [
        "%%writefile t1.c\n",
        "\n",
        "#include <stdio.h>\n",
        "#include <time.h>\n",
        "#include <stdlib.h>\n",
        "\n",
        "#define NUM 10000000\n",
        "#define MIN_BLK 1024\n",
        "\n",
        "int _vet[NUM];\n",
        "\n",
        "\n",
        "int\n",
        "calc(int start, int finish)\n",
        "{\n",
        "   int i, dif;\n",
        "   int sum = 0, sum1, sum2;\n",
        "\n",
        "   if (finish-start <= MIN_BLK) {    // calcula\n",
        "      // printf(\"Calculando %d -> %d\\n\", start, finish);\n",
        "\n",
        "      for (i=start; i < finish; i++)\n",
        "        sum+=_vet[i];\n",
        "\n",
        "   } else {                           // divide, criando novas tasks\n",
        "\n",
        "      // printf(\"Dividindo %d -> %d\\n\", start, finish);\n",
        "\n",
        "      dif = finish - start;\n",
        "\n",
        "      // variável de retorno deve ser compartilhada para que o valor retornado\n",
        "      // não seja salvo em uma nova variável da nova task\n",
        "\n",
        "      #pragma omp task shared(sum1)\n",
        "      sum1 = calc(start, start + dif / 2);\n",
        "\n",
        "      #pragma omp task shared(sum2)\n",
        "      sum2 = calc(finish - dif / 2, finish);\n",
        "\n",
        "      // Taskwait funciona como uma barreira para tasks, fazendo com que o fluxo de execução\n",
        "      // seja pausado até que as tasks tenham sido completadas. Taskwait faz com\n",
        "      // que threads suspendam o que estavam fazendo e passam a atuar nas tasks da fila.\n",
        "      // The taskwait construct specifies a wait on the completion of child tasks of the current task.\n",
        "      #pragma omp taskwait\n",
        "      // Once all tasks have been processed, threads resume their normal execution flow.\n",
        "\n",
        "      sum = sum1 + sum2;\n",
        "  }\n",
        "  return sum;\n",
        "}\n",
        "\n",
        "int main()\n",
        "{\n",
        "  int i, sum;\n",
        "\n",
        "  // inicia vetor com valores aleatorios 0..9\n",
        "  srand(time(NULL));\n",
        "  for (i=0; i< NUM; i++)\n",
        "    _vet[i]=rand()%10;\n",
        "\n",
        "  #pragma omp parallel     // cria um time de threads\n",
        "  {\n",
        "    // Questão: queremos ter um time de threads, que irá executar as tarefas\n",
        "    // que criarmos nas chamadas recursivas. Contudo, é preciso fazer apenas 1\n",
        "    // chamada à função de cálculo. Isso é feito com a diretiva single()\n",
        "\n",
        "    #pragma omp single\n",
        "      sum = calc (0, NUM);\n",
        "  }\n",
        "\n",
        "  printf(\"Soma: %d\\n\", sum);\n",
        "\n",
        "  return 0;\n",
        "}"
      ],
      "execution_count": null,
      "outputs": [
        {
          "output_type": "stream",
          "name": "stdout",
          "text": [
            "Overwriting t1.c\n"
          ]
        }
      ]
    },
    {
      "cell_type": "code",
      "metadata": {
        "colab": {
          "base_uri": "https://localhost:8080/"
        },
        "id": "yEjGQwtLyqR_",
        "outputId": "8fae5527-1a98-411a-fe34-33b26b2ec100"
      },
      "source": [
        "! gcc -Wall t1.c -o t1 -fopenmp && time ./t1"
      ],
      "execution_count": null,
      "outputs": [
        {
          "output_type": "stream",
          "name": "stdout",
          "text": [
            "Soma: 44970447\n",
            "\n",
            "real\t0m0.269s\n",
            "user\t0m0.259s\n",
            "sys\t0m0.031s\n"
          ]
        }
      ]
    }
  ]
}