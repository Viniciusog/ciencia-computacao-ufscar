{
  "nbformat": 4,
  "nbformat_minor": 0,
  "metadata": {
    "colab": {
      "provenance": []
    },
    "kernelspec": {
      "name": "python3",
      "display_name": "Python 3"
    }
  },
  "cells": [
    {
      "cell_type": "markdown",
      "metadata": {
        "id": "Rz_RZY-lGwjQ"
      },
      "source": [
        "# **PPD - Escalabilidade da Multiplicação de Matrizes**\n",
        "\n",
        "**Caio Ueda Sampaio, 802215, BCC <br>\n",
        "Vinícius de Oliveira Guimarães, 802431, BCC**\n",
        "\n",
        "As análises e explicações sobre o código estão no documento PDF enviado."
      ]
    },
    {
      "cell_type": "markdown",
      "source": [
        "## Paralelização do primeiro for\n",
        "\n",
        "Para executar a paralelização considerando o primeiro for, basta executar os códigos que estão no tópico do primeiro for."
      ],
      "metadata": {
        "id": "90EnIw932q48"
      }
    },
    {
      "cell_type": "code",
      "source": [
        "%%writefile mm.c\n",
        "\n",
        "#include <math.h>\n",
        "#include <stdlib.h>\n",
        "#include <string.h>\n",
        "#include <stdio.h>\n",
        "#include <unistd.h>\n",
        "#include <time.h>\n",
        "#include <omp.h>\n",
        "\n",
        "int main(int argc, char *argv[]) {\n",
        "    int lin_a, col_a, lin_b, col_b, lin_c, col_c;\n",
        "    int i, j, k;\n",
        "\n",
        "    // Entrada das dimensões das matrizes\n",
        "    printf(\"Linhas A: \");   scanf(\"%d\", &lin_a);\n",
        "    printf(\"Colunas A / Linhas B: \"); scanf(\"%d\", &col_a);\n",
        "    lin_b = col_a;\n",
        "    printf(\"Colunas B: \");  scanf(\"%d\", &col_b);\n",
        "    printf(\"\\n\");\n",
        "    lin_c = lin_a;\n",
        "    col_c = col_b;\n",
        "\n",
        "    // Alocação dinâmica das matrizes\n",
        "    float *A = (float *) malloc(lin_a * col_a * sizeof(float));\n",
        "    float *B = (float *) malloc(lin_b * col_b * sizeof(float));\n",
        "    float *C = (float *) malloc(lin_c * col_c * sizeof(float));\n",
        "\n",
        "    // Paralelização da inicialização da matriz A\n",
        "    #pragma omp parallel for private(i)\n",
        "    for(i = 0; i < lin_a * col_a; i++) {\n",
        "        unsigned int seed = (unsigned int)time(NULL) ^ (unsigned int) omp_get_thread_num();\n",
        "        A[i] = (float)rand_r(&seed) / (float)RAND_MAX;\n",
        "    }\n",
        "\n",
        "    // Paralelização da inicialização da matriz B\n",
        "    #pragma omp parallel for private(i)\n",
        "    for(i = 0; i < lin_b * col_b; i++) {\n",
        "        unsigned int seed = (unsigned int)time(NULL) ^ (unsigned int) omp_get_thread_num();\n",
        "        B[i] = (float)rand_r(&seed) / (float)RAND_MAX;\n",
        "    }\n",
        "\n",
        "    // Paralelização considerando o primeiro for\n",
        "    #pragma omp parallel for private(i, j, k)\n",
        "    for(int i = 0; i < lin_c; i++) {\n",
        "        for(j = 0; j < col_c; j++) {\n",
        "            float auxC = 0;\n",
        "            for(k = 0; k < col_a; k++) {\n",
        "                auxC += A[i*col_a+k]* B[k*col_b+j];\n",
        "            }\n",
        "            C[i*col_c+j] = auxC;\n",
        "        }\n",
        "    }\n",
        "\n",
        "    // Liberação da memória\n",
        "    free(A);\n",
        "    free(B);\n",
        "    free(C);\n",
        "\n",
        "    return 0;\n",
        "}"
      ],
      "metadata": {
        "colab": {
          "base_uri": "https://localhost:8080/"
        },
        "id": "ZsTzd4VTjE51",
        "outputId": "016227b4-ae2c-4c98-b2b9-9cbfd78eeb08"
      },
      "execution_count": null,
      "outputs": [
        {
          "output_type": "stream",
          "name": "stdout",
          "text": [
            "Writing mm.c\n"
          ]
        }
      ]
    },
    {
      "cell_type": "code",
      "source": [
        "%%writefile script.sh\n",
        "\n",
        "echo \"2048 2048 2048\" > 2048\n",
        "\n",
        "# Compilando!\n",
        "gcc -Wno-unused-result mm.c -o mm -O3 -fopenmp\n",
        "\n",
        "for i in {1,2,4,8,16,32,64,128}; do\n",
        "        for j in {1..3}; do\n",
        "                echo \"$i thread(s) / run $j\"\n",
        "                OMP_NUM_THREADS=$i time ./mm < 2048 > /dev/null\n",
        "        done\n",
        "        echo\n",
        "done"
      ],
      "metadata": {
        "colab": {
          "base_uri": "https://localhost:8080/"
        },
        "id": "xPnvM9eq2wC8",
        "outputId": "def00abb-f8c0-44a0-8f1b-86586e5d59e8"
      },
      "execution_count": null,
      "outputs": [
        {
          "output_type": "stream",
          "name": "stdout",
          "text": [
            "Overwriting script.sh\n"
          ]
        }
      ]
    },
    {
      "cell_type": "code",
      "source": [
        "!chmod +x script.sh"
      ],
      "metadata": {
        "id": "10CXT3qhjkTH"
      },
      "execution_count": null,
      "outputs": []
    },
    {
      "cell_type": "code",
      "source": [
        "!sudo apt install time"
      ],
      "metadata": {
        "id": "7bE8DEgL3XCp"
      },
      "execution_count": null,
      "outputs": []
    },
    {
      "cell_type": "code",
      "source": [
        "!./script.sh"
      ],
      "metadata": {
        "id": "r1Ze6yup3N_f"
      },
      "execution_count": null,
      "outputs": []
    },
    {
      "cell_type": "markdown",
      "source": [
        "## Paralelização do segundo for\n",
        "\n",
        "Para executar a paralelização considerando o segundo for, basta executar os códigos que estão no tópico do segundo for."
      ],
      "metadata": {
        "id": "pLcXRcC94DsE"
      }
    },
    {
      "cell_type": "code",
      "source": [
        "%%writefile mm2.c\n",
        "\n",
        "#include <math.h>\n",
        "#include <stdlib.h>\n",
        "#include <string.h>\n",
        "#include <stdio.h>\n",
        "#include <unistd.h>\n",
        "#include <time.h>\n",
        "#include <omp.h>\n",
        "\n",
        "int main(int argc, char *argv[]) {\n",
        "    int lin_a, col_a, lin_b, col_b, lin_c, col_c;\n",
        "    int i, j, k;\n",
        "\n",
        "    // Entrada das dimensões das matrizes\n",
        "    printf(\"Linhas A: \");   scanf(\"%d\", &lin_a);\n",
        "    printf(\"Colunas A / Linhas B: \"); scanf(\"%d\", &col_a);\n",
        "    lin_b = col_a;\n",
        "    printf(\"Colunas B: \");  scanf(\"%d\", &col_b);\n",
        "    printf(\"\\n\");\n",
        "    lin_c = lin_a;\n",
        "    col_c = col_b;\n",
        "\n",
        "    // Alocação dinâmica das matrizes\n",
        "    float *A = (float *) malloc(lin_a * col_a * sizeof(float));\n",
        "    float *B = (float *) malloc(lin_b * col_b * sizeof(float));\n",
        "    float *C = (float *) malloc(lin_c * col_c * sizeof(float));\n",
        "\n",
        "    // Paralelização da inicialização da matriz A\n",
        "    #pragma omp parallel for private(i)\n",
        "    for(i = 0; i < lin_a * col_a; i++) {\n",
        "        unsigned int seed = (unsigned int)time(NULL) ^ (unsigned int)omp_get_thread_num();\n",
        "        A[i] = (float)rand_r(&seed) / (float)RAND_MAX;\n",
        "    }\n",
        "\n",
        "    // Paralelização da inicialização da matriz B\n",
        "    #pragma omp parallel for private(i)\n",
        "    for(i = 0; i < lin_b * col_b; i++) {\n",
        "        unsigned int seed = (unsigned int)time(NULL) ^ (unsigned int)omp_get_thread_num();\n",
        "        B[i] = (float)rand_r(&seed) / (float)RAND_MAX;\n",
        "    }\n",
        "\n",
        "    // Cálculo da multiplicação de matrizes\n",
        "    for(int i = 0; i < lin_c; i++) {\n",
        "        #pragma omp parallel for private(j, k)\n",
        "        for(j = 0; j < col_c; j++) {\n",
        "            float auxC = 0;\n",
        "            for(k = 0; k < col_a; k++) {\n",
        "                auxC += A[i * col_a + k] * B[k * col_b + j];\n",
        "            }\n",
        "            C[i * col_c + j] = auxC;\n",
        "        }\n",
        "    }\n",
        "\n",
        "    // Liberação da memória\n",
        "    free(A);\n",
        "    free(B);\n",
        "    free(C);\n",
        "\n",
        "    return 0;\n",
        "}\n"
      ],
      "metadata": {
        "colab": {
          "base_uri": "https://localhost:8080/"
        },
        "id": "kgmXq3IfjsuM",
        "outputId": "533f6b37-d035-4124-be83-fcdc38f9bac0"
      },
      "execution_count": null,
      "outputs": [
        {
          "output_type": "stream",
          "name": "stdout",
          "text": [
            "Overwriting mm2.c\n"
          ]
        }
      ]
    },
    {
      "cell_type": "code",
      "source": [
        "%%writefile script2.sh\n",
        "\n",
        "echo \"2048 2048 2048\" > 2048\n",
        "\n",
        "# Compilando!\n",
        "gcc -Wno-unused-result mm2.c -o mm2 -O3 -fopenmp\n",
        "\n",
        "for i in {1,2,4,8,16,32,64,128}; do\n",
        "        for j in {1..3}; do\n",
        "                echo \"$i thread(s) / run $j\"\n",
        "                OMP_NUM_THREADS=$i time ./mm2 < 2048 > /dev/null\n",
        "        done\n",
        "        echo\n",
        "done"
      ],
      "metadata": {
        "colab": {
          "base_uri": "https://localhost:8080/"
        },
        "id": "GYGdU2qy4Uk8",
        "outputId": "8466e931-ccee-4267-8420-da8f53908296"
      },
      "execution_count": null,
      "outputs": [
        {
          "output_type": "stream",
          "name": "stdout",
          "text": [
            "Overwriting script2.sh\n"
          ]
        }
      ]
    },
    {
      "cell_type": "code",
      "source": [
        "!chmod +x script2.sh"
      ],
      "metadata": {
        "id": "5lht3ajL4RFK"
      },
      "execution_count": null,
      "outputs": []
    },
    {
      "cell_type": "code",
      "source": [
        "!sudo apt install time"
      ],
      "metadata": {
        "id": "urDa2jgukGRX"
      },
      "execution_count": null,
      "outputs": []
    },
    {
      "cell_type": "code",
      "source": [
        "!./script2.sh"
      ],
      "metadata": {
        "id": "BPlwElDX4dxg"
      },
      "execution_count": null,
      "outputs": []
    },
    {
      "cell_type": "markdown",
      "source": [
        "## Paralelização terceiro for\n",
        "\n",
        "Para executar a paralelização considerando o terceiro for, basta executar os códigos que estão no tópico do terceiro for."
      ],
      "metadata": {
        "id": "SEzFGC9N4100"
      }
    },
    {
      "cell_type": "code",
      "source": [
        "%%writefile mm3.c\n",
        "\n",
        "#include <math.h>\n",
        "#include <stdlib.h>\n",
        "#include <string.h>\n",
        "#include <stdio.h>\n",
        "#include <unistd.h>\n",
        "#include <time.h>\n",
        "#include <omp.h>\n",
        "\n",
        "int main(int argc, char *argv[]) {\n",
        "    int lin_a, col_a, lin_b, col_b, lin_c, col_c;\n",
        "    int i, j, k;\n",
        "\n",
        "    // Entrada das dimensões das matrizes\n",
        "    printf(\"Linhas A: \");   scanf(\"%d\", &lin_a);\n",
        "    printf(\"Colunas A / Linhas B: \"); scanf(\"%d\", &col_a);\n",
        "    lin_b = col_a;\n",
        "    printf(\"Colunas B: \");  scanf(\"%d\", &col_b);\n",
        "    printf(\"\\n\");\n",
        "    lin_c = lin_a;\n",
        "    col_c = col_b;\n",
        "\n",
        "    // Alocação dinâmica das matrizes\n",
        "    float *A = (float *) malloc(lin_a * col_a * sizeof(float));\n",
        "    float *B = (float *) malloc(lin_b * col_b * sizeof(float));\n",
        "    float *C = (float *) malloc(lin_c * col_c * sizeof(float));\n",
        "\n",
        "    // Paralelização da inicialização da matriz A\n",
        "    #pragma omp parallel for private(i)\n",
        "    for(i = 0; i < lin_a * col_a; i++) {\n",
        "        unsigned int seed = (unsigned int)time(NULL) ^ (unsigned int)omp_get_thread_num();\n",
        "        A[i] = (float)rand_r(&seed) / (float)RAND_MAX;\n",
        "    }\n",
        "\n",
        "    // Paralelização da inicialização da matriz B\n",
        "    #pragma omp parallel for private(i)\n",
        "    for(i = 0; i < lin_b * col_b; i++) {\n",
        "        unsigned int seed = (unsigned int)time(NULL) ^ (unsigned int)omp_get_thread_num();\n",
        "        B[i] = (float)rand_r(&seed) / (float)RAND_MAX;\n",
        "    }\n",
        "\n",
        "    // Cálculo da multiplicação de matrizes\n",
        "    for(int i = 0; i < lin_c; i++) {\n",
        "        for(int j = 0; j < col_c; j++) {\n",
        "            float auxC = 0;\n",
        "            #pragma omp parallel for private(k) reduction(+:auxC)\n",
        "            for(k = 0; k < col_a; k++) {\n",
        "                auxC += A[i*col_a+k] * B[k*col_b+ j];\n",
        "            }\n",
        "            C[i * col_c + j] = auxC;\n",
        "        }\n",
        "    }\n",
        "\n",
        "    // Liberação da memória\n",
        "    free(A);\n",
        "    free(B);\n",
        "    free(C);\n",
        "\n",
        "    return 0;\n",
        "}"
      ],
      "metadata": {
        "colab": {
          "base_uri": "https://localhost:8080/"
        },
        "id": "lCc-QTtf5GgJ",
        "outputId": "a871ae63-b159-42d6-c7a9-4eaf4571e86d"
      },
      "execution_count": null,
      "outputs": [
        {
          "output_type": "stream",
          "name": "stdout",
          "text": [
            "Writing mm3.c\n"
          ]
        }
      ]
    },
    {
      "cell_type": "code",
      "source": [
        "%%writefile script3.sh\n",
        "\n",
        "echo \"2048 2048 2048\" > 2048\n",
        "\n",
        "# Compilando!\n",
        "gcc -Wno-unused-result mm3.c -o mm3 -O3 -fopenmp\n",
        "\n",
        "for i in {1,2,4,8,16,32,64,128}; do\n",
        "        for j in {1..3}; do\n",
        "                echo \"$i thread(s) / run $j\"\n",
        "                OMP_NUM_THREADS=$i time ./mm3 < 2048 > /dev/null\n",
        "        done\n",
        "        echo\n",
        "done"
      ],
      "metadata": {
        "colab": {
          "base_uri": "https://localhost:8080/"
        },
        "id": "i5p-lQIW5Mjl",
        "outputId": "4a33a610-be83-4f99-e542-63f92d990819"
      },
      "execution_count": null,
      "outputs": [
        {
          "output_type": "stream",
          "name": "stdout",
          "text": [
            "Writing script3.sh\n"
          ]
        }
      ]
    },
    {
      "cell_type": "code",
      "source": [
        "!chmod +x script3.sh"
      ],
      "metadata": {
        "id": "Kjicuzxq5RVZ"
      },
      "execution_count": null,
      "outputs": []
    },
    {
      "cell_type": "code",
      "source": [
        "!sudo apt install time"
      ],
      "metadata": {
        "id": "pxO2VMLo5VaI"
      },
      "execution_count": null,
      "outputs": []
    },
    {
      "cell_type": "code",
      "source": [
        "!./script3.sh"
      ],
      "metadata": {
        "id": "AkMWxOaO5Yqb"
      },
      "execution_count": null,
      "outputs": []
    }
  ]
}